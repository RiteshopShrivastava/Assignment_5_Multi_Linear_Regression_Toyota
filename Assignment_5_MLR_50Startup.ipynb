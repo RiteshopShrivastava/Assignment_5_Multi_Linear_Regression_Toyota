{
  "nbformat": 4,
  "nbformat_minor": 0,
  "metadata": {
    "colab": {
      "name": "Assignment_5_MLR_50Startup.ipynb",
      "provenance": [],
      "collapsed_sections": [],
      "authorship_tag": "ABX9TyMB/qqluRSlNiuQMZkVj5E8",
      "include_colab_link": true
    },
    "kernelspec": {
      "name": "python3",
      "display_name": "Python 3"
    },
    "language_info": {
      "name": "python"
    }
  },
  "cells": [
    {
      "cell_type": "markdown",
      "metadata": {
        "id": "view-in-github",
        "colab_type": "text"
      },
      "source": [
        "<a href=\"https://colab.research.google.com/github/RiteshopShrivastava/Assignment_5_Multi_Linear_Regression_Toyota/blob/main/Assignment_5_MLR_50Startup.ipynb\" target=\"_parent\"><img src=\"https://colab.research.google.com/assets/colab-badge.svg\" alt=\"Open In Colab\"/></a>"
      ]
    },
    {
      "cell_type": "markdown",
      "metadata": {
        "id": "POyPvY-vvYw-"
      },
      "source": [
        "Prepare a prediction model for profit of 50_startups data.\n",
        "Do transformations for getting better predictions of profit and\n",
        "make a table containing R^2 value for each prepared model.\n",
        "\n",
        "R&D Spend -- Research and devolop spend in the past few years\n",
        "\n",
        "Administration -- spend on administration in the past few years\n",
        "\n",
        "Marketing Spend -- spend on Marketing in the past few years\n",
        "\n",
        "State -- states from which data is collected\n",
        "\n",
        "Profit  -- profit of each state in the past few years"
      ]
    },
    {
      "cell_type": "code",
      "metadata": {
        "id": "Pm1CuCk9PGgy",
        "colab": {
          "base_uri": "https://localhost:8080/"
        },
        "outputId": "4689dc9a-4987-42bb-cfa7-a4d2f3f95bbd"
      },
      "source": [
        "import pandas as pd\n",
        "import numpy as np\n",
        "import matplotlib.pyplot as plt\n",
        "import statsmodels.formula.api as smf\n",
        "from statsmodels.graphics.regressionplots import influence_plot\n",
        "import seaborn as sns"
      ],
      "execution_count": 1,
      "outputs": [
        {
          "output_type": "stream",
          "name": "stderr",
          "text": [
            "/usr/local/lib/python3.7/dist-packages/statsmodels/tools/_testing.py:19: FutureWarning: pandas.util.testing is deprecated. Use the functions in the public API at pandas.testing instead.\n",
            "  import pandas.util.testing as tm\n"
          ]
        }
      ]
    },
    {
      "cell_type": "code",
      "metadata": {
        "colab": {
          "base_uri": "https://localhost:8080/",
          "height": 1000
        },
        "id": "CxqMi0pQPo2J",
        "outputId": "1ac154d4-381f-4e17-8042-9f4c948eac16"
      },
      "source": [
        "startup_data = pd.read_csv('/content/50_Startups.csv')\n",
        "startup_data"
      ],
      "execution_count": 2,
      "outputs": [
        {
          "output_type": "execute_result",
          "data": {
            "text/html": [
              "<div>\n",
              "<style scoped>\n",
              "    .dataframe tbody tr th:only-of-type {\n",
              "        vertical-align: middle;\n",
              "    }\n",
              "\n",
              "    .dataframe tbody tr th {\n",
              "        vertical-align: top;\n",
              "    }\n",
              "\n",
              "    .dataframe thead th {\n",
              "        text-align: right;\n",
              "    }\n",
              "</style>\n",
              "<table border=\"1\" class=\"dataframe\">\n",
              "  <thead>\n",
              "    <tr style=\"text-align: right;\">\n",
              "      <th></th>\n",
              "      <th>R&amp;D Spend</th>\n",
              "      <th>Administration</th>\n",
              "      <th>Marketing Spend</th>\n",
              "      <th>State</th>\n",
              "      <th>Profit</th>\n",
              "    </tr>\n",
              "  </thead>\n",
              "  <tbody>\n",
              "    <tr>\n",
              "      <th>0</th>\n",
              "      <td>165349.20</td>\n",
              "      <td>136897.80</td>\n",
              "      <td>471784.10</td>\n",
              "      <td>New York</td>\n",
              "      <td>192261.83</td>\n",
              "    </tr>\n",
              "    <tr>\n",
              "      <th>1</th>\n",
              "      <td>162597.70</td>\n",
              "      <td>151377.59</td>\n",
              "      <td>443898.53</td>\n",
              "      <td>California</td>\n",
              "      <td>191792.06</td>\n",
              "    </tr>\n",
              "    <tr>\n",
              "      <th>2</th>\n",
              "      <td>153441.51</td>\n",
              "      <td>101145.55</td>\n",
              "      <td>407934.54</td>\n",
              "      <td>Florida</td>\n",
              "      <td>191050.39</td>\n",
              "    </tr>\n",
              "    <tr>\n",
              "      <th>3</th>\n",
              "      <td>144372.41</td>\n",
              "      <td>118671.85</td>\n",
              "      <td>383199.62</td>\n",
              "      <td>New York</td>\n",
              "      <td>182901.99</td>\n",
              "    </tr>\n",
              "    <tr>\n",
              "      <th>4</th>\n",
              "      <td>142107.34</td>\n",
              "      <td>91391.77</td>\n",
              "      <td>366168.42</td>\n",
              "      <td>Florida</td>\n",
              "      <td>166187.94</td>\n",
              "    </tr>\n",
              "    <tr>\n",
              "      <th>5</th>\n",
              "      <td>131876.90</td>\n",
              "      <td>99814.71</td>\n",
              "      <td>362861.36</td>\n",
              "      <td>New York</td>\n",
              "      <td>156991.12</td>\n",
              "    </tr>\n",
              "    <tr>\n",
              "      <th>6</th>\n",
              "      <td>134615.46</td>\n",
              "      <td>147198.87</td>\n",
              "      <td>127716.82</td>\n",
              "      <td>California</td>\n",
              "      <td>156122.51</td>\n",
              "    </tr>\n",
              "    <tr>\n",
              "      <th>7</th>\n",
              "      <td>130298.13</td>\n",
              "      <td>145530.06</td>\n",
              "      <td>323876.68</td>\n",
              "      <td>Florida</td>\n",
              "      <td>155752.60</td>\n",
              "    </tr>\n",
              "    <tr>\n",
              "      <th>8</th>\n",
              "      <td>120542.52</td>\n",
              "      <td>148718.95</td>\n",
              "      <td>311613.29</td>\n",
              "      <td>New York</td>\n",
              "      <td>152211.77</td>\n",
              "    </tr>\n",
              "    <tr>\n",
              "      <th>9</th>\n",
              "      <td>123334.88</td>\n",
              "      <td>108679.17</td>\n",
              "      <td>304981.62</td>\n",
              "      <td>California</td>\n",
              "      <td>149759.96</td>\n",
              "    </tr>\n",
              "    <tr>\n",
              "      <th>10</th>\n",
              "      <td>101913.08</td>\n",
              "      <td>110594.11</td>\n",
              "      <td>229160.95</td>\n",
              "      <td>Florida</td>\n",
              "      <td>146121.95</td>\n",
              "    </tr>\n",
              "    <tr>\n",
              "      <th>11</th>\n",
              "      <td>100671.96</td>\n",
              "      <td>91790.61</td>\n",
              "      <td>249744.55</td>\n",
              "      <td>California</td>\n",
              "      <td>144259.40</td>\n",
              "    </tr>\n",
              "    <tr>\n",
              "      <th>12</th>\n",
              "      <td>93863.75</td>\n",
              "      <td>127320.38</td>\n",
              "      <td>249839.44</td>\n",
              "      <td>Florida</td>\n",
              "      <td>141585.52</td>\n",
              "    </tr>\n",
              "    <tr>\n",
              "      <th>13</th>\n",
              "      <td>91992.39</td>\n",
              "      <td>135495.07</td>\n",
              "      <td>252664.93</td>\n",
              "      <td>California</td>\n",
              "      <td>134307.35</td>\n",
              "    </tr>\n",
              "    <tr>\n",
              "      <th>14</th>\n",
              "      <td>119943.24</td>\n",
              "      <td>156547.42</td>\n",
              "      <td>256512.92</td>\n",
              "      <td>Florida</td>\n",
              "      <td>132602.65</td>\n",
              "    </tr>\n",
              "    <tr>\n",
              "      <th>15</th>\n",
              "      <td>114523.61</td>\n",
              "      <td>122616.84</td>\n",
              "      <td>261776.23</td>\n",
              "      <td>New York</td>\n",
              "      <td>129917.04</td>\n",
              "    </tr>\n",
              "    <tr>\n",
              "      <th>16</th>\n",
              "      <td>78013.11</td>\n",
              "      <td>121597.55</td>\n",
              "      <td>264346.06</td>\n",
              "      <td>California</td>\n",
              "      <td>126992.93</td>\n",
              "    </tr>\n",
              "    <tr>\n",
              "      <th>17</th>\n",
              "      <td>94657.16</td>\n",
              "      <td>145077.58</td>\n",
              "      <td>282574.31</td>\n",
              "      <td>New York</td>\n",
              "      <td>125370.37</td>\n",
              "    </tr>\n",
              "    <tr>\n",
              "      <th>18</th>\n",
              "      <td>91749.16</td>\n",
              "      <td>114175.79</td>\n",
              "      <td>294919.57</td>\n",
              "      <td>Florida</td>\n",
              "      <td>124266.90</td>\n",
              "    </tr>\n",
              "    <tr>\n",
              "      <th>19</th>\n",
              "      <td>86419.70</td>\n",
              "      <td>153514.11</td>\n",
              "      <td>0.00</td>\n",
              "      <td>New York</td>\n",
              "      <td>122776.86</td>\n",
              "    </tr>\n",
              "    <tr>\n",
              "      <th>20</th>\n",
              "      <td>76253.86</td>\n",
              "      <td>113867.30</td>\n",
              "      <td>298664.47</td>\n",
              "      <td>California</td>\n",
              "      <td>118474.03</td>\n",
              "    </tr>\n",
              "    <tr>\n",
              "      <th>21</th>\n",
              "      <td>78389.47</td>\n",
              "      <td>153773.43</td>\n",
              "      <td>299737.29</td>\n",
              "      <td>New York</td>\n",
              "      <td>111313.02</td>\n",
              "    </tr>\n",
              "    <tr>\n",
              "      <th>22</th>\n",
              "      <td>73994.56</td>\n",
              "      <td>122782.75</td>\n",
              "      <td>303319.26</td>\n",
              "      <td>Florida</td>\n",
              "      <td>110352.25</td>\n",
              "    </tr>\n",
              "    <tr>\n",
              "      <th>23</th>\n",
              "      <td>67532.53</td>\n",
              "      <td>105751.03</td>\n",
              "      <td>304768.73</td>\n",
              "      <td>Florida</td>\n",
              "      <td>108733.99</td>\n",
              "    </tr>\n",
              "    <tr>\n",
              "      <th>24</th>\n",
              "      <td>77044.01</td>\n",
              "      <td>99281.34</td>\n",
              "      <td>140574.81</td>\n",
              "      <td>New York</td>\n",
              "      <td>108552.04</td>\n",
              "    </tr>\n",
              "    <tr>\n",
              "      <th>25</th>\n",
              "      <td>64664.71</td>\n",
              "      <td>139553.16</td>\n",
              "      <td>137962.62</td>\n",
              "      <td>California</td>\n",
              "      <td>107404.34</td>\n",
              "    </tr>\n",
              "    <tr>\n",
              "      <th>26</th>\n",
              "      <td>75328.87</td>\n",
              "      <td>144135.98</td>\n",
              "      <td>134050.07</td>\n",
              "      <td>Florida</td>\n",
              "      <td>105733.54</td>\n",
              "    </tr>\n",
              "    <tr>\n",
              "      <th>27</th>\n",
              "      <td>72107.60</td>\n",
              "      <td>127864.55</td>\n",
              "      <td>353183.81</td>\n",
              "      <td>New York</td>\n",
              "      <td>105008.31</td>\n",
              "    </tr>\n",
              "    <tr>\n",
              "      <th>28</th>\n",
              "      <td>66051.52</td>\n",
              "      <td>182645.56</td>\n",
              "      <td>118148.20</td>\n",
              "      <td>Florida</td>\n",
              "      <td>103282.38</td>\n",
              "    </tr>\n",
              "    <tr>\n",
              "      <th>29</th>\n",
              "      <td>65605.48</td>\n",
              "      <td>153032.06</td>\n",
              "      <td>107138.38</td>\n",
              "      <td>New York</td>\n",
              "      <td>101004.64</td>\n",
              "    </tr>\n",
              "    <tr>\n",
              "      <th>30</th>\n",
              "      <td>61994.48</td>\n",
              "      <td>115641.28</td>\n",
              "      <td>91131.24</td>\n",
              "      <td>Florida</td>\n",
              "      <td>99937.59</td>\n",
              "    </tr>\n",
              "    <tr>\n",
              "      <th>31</th>\n",
              "      <td>61136.38</td>\n",
              "      <td>152701.92</td>\n",
              "      <td>88218.23</td>\n",
              "      <td>New York</td>\n",
              "      <td>97483.56</td>\n",
              "    </tr>\n",
              "    <tr>\n",
              "      <th>32</th>\n",
              "      <td>63408.86</td>\n",
              "      <td>129219.61</td>\n",
              "      <td>46085.25</td>\n",
              "      <td>California</td>\n",
              "      <td>97427.84</td>\n",
              "    </tr>\n",
              "    <tr>\n",
              "      <th>33</th>\n",
              "      <td>55493.95</td>\n",
              "      <td>103057.49</td>\n",
              "      <td>214634.81</td>\n",
              "      <td>Florida</td>\n",
              "      <td>96778.92</td>\n",
              "    </tr>\n",
              "    <tr>\n",
              "      <th>34</th>\n",
              "      <td>46426.07</td>\n",
              "      <td>157693.92</td>\n",
              "      <td>210797.67</td>\n",
              "      <td>California</td>\n",
              "      <td>96712.80</td>\n",
              "    </tr>\n",
              "    <tr>\n",
              "      <th>35</th>\n",
              "      <td>46014.02</td>\n",
              "      <td>85047.44</td>\n",
              "      <td>205517.64</td>\n",
              "      <td>New York</td>\n",
              "      <td>96479.51</td>\n",
              "    </tr>\n",
              "    <tr>\n",
              "      <th>36</th>\n",
              "      <td>28663.76</td>\n",
              "      <td>127056.21</td>\n",
              "      <td>201126.82</td>\n",
              "      <td>Florida</td>\n",
              "      <td>90708.19</td>\n",
              "    </tr>\n",
              "    <tr>\n",
              "      <th>37</th>\n",
              "      <td>44069.95</td>\n",
              "      <td>51283.14</td>\n",
              "      <td>197029.42</td>\n",
              "      <td>California</td>\n",
              "      <td>89949.14</td>\n",
              "    </tr>\n",
              "    <tr>\n",
              "      <th>38</th>\n",
              "      <td>20229.59</td>\n",
              "      <td>65947.93</td>\n",
              "      <td>185265.10</td>\n",
              "      <td>New York</td>\n",
              "      <td>81229.06</td>\n",
              "    </tr>\n",
              "    <tr>\n",
              "      <th>39</th>\n",
              "      <td>38558.51</td>\n",
              "      <td>82982.09</td>\n",
              "      <td>174999.30</td>\n",
              "      <td>California</td>\n",
              "      <td>81005.76</td>\n",
              "    </tr>\n",
              "    <tr>\n",
              "      <th>40</th>\n",
              "      <td>28754.33</td>\n",
              "      <td>118546.05</td>\n",
              "      <td>172795.67</td>\n",
              "      <td>California</td>\n",
              "      <td>78239.91</td>\n",
              "    </tr>\n",
              "    <tr>\n",
              "      <th>41</th>\n",
              "      <td>27892.92</td>\n",
              "      <td>84710.77</td>\n",
              "      <td>164470.71</td>\n",
              "      <td>Florida</td>\n",
              "      <td>77798.83</td>\n",
              "    </tr>\n",
              "    <tr>\n",
              "      <th>42</th>\n",
              "      <td>23640.93</td>\n",
              "      <td>96189.63</td>\n",
              "      <td>148001.11</td>\n",
              "      <td>California</td>\n",
              "      <td>71498.49</td>\n",
              "    </tr>\n",
              "    <tr>\n",
              "      <th>43</th>\n",
              "      <td>15505.73</td>\n",
              "      <td>127382.30</td>\n",
              "      <td>35534.17</td>\n",
              "      <td>New York</td>\n",
              "      <td>69758.98</td>\n",
              "    </tr>\n",
              "    <tr>\n",
              "      <th>44</th>\n",
              "      <td>22177.74</td>\n",
              "      <td>154806.14</td>\n",
              "      <td>28334.72</td>\n",
              "      <td>California</td>\n",
              "      <td>65200.33</td>\n",
              "    </tr>\n",
              "    <tr>\n",
              "      <th>45</th>\n",
              "      <td>1000.23</td>\n",
              "      <td>124153.04</td>\n",
              "      <td>1903.93</td>\n",
              "      <td>New York</td>\n",
              "      <td>64926.08</td>\n",
              "    </tr>\n",
              "    <tr>\n",
              "      <th>46</th>\n",
              "      <td>1315.46</td>\n",
              "      <td>115816.21</td>\n",
              "      <td>297114.46</td>\n",
              "      <td>Florida</td>\n",
              "      <td>49490.75</td>\n",
              "    </tr>\n",
              "    <tr>\n",
              "      <th>47</th>\n",
              "      <td>0.00</td>\n",
              "      <td>135426.92</td>\n",
              "      <td>0.00</td>\n",
              "      <td>California</td>\n",
              "      <td>42559.73</td>\n",
              "    </tr>\n",
              "    <tr>\n",
              "      <th>48</th>\n",
              "      <td>542.05</td>\n",
              "      <td>51743.15</td>\n",
              "      <td>0.00</td>\n",
              "      <td>New York</td>\n",
              "      <td>35673.41</td>\n",
              "    </tr>\n",
              "    <tr>\n",
              "      <th>49</th>\n",
              "      <td>0.00</td>\n",
              "      <td>116983.80</td>\n",
              "      <td>45173.06</td>\n",
              "      <td>California</td>\n",
              "      <td>14681.40</td>\n",
              "    </tr>\n",
              "  </tbody>\n",
              "</table>\n",
              "</div>"
            ],
            "text/plain": [
              "    R&D Spend  Administration  Marketing Spend       State     Profit\n",
              "0   165349.20       136897.80        471784.10    New York  192261.83\n",
              "1   162597.70       151377.59        443898.53  California  191792.06\n",
              "2   153441.51       101145.55        407934.54     Florida  191050.39\n",
              "3   144372.41       118671.85        383199.62    New York  182901.99\n",
              "4   142107.34        91391.77        366168.42     Florida  166187.94\n",
              "5   131876.90        99814.71        362861.36    New York  156991.12\n",
              "6   134615.46       147198.87        127716.82  California  156122.51\n",
              "7   130298.13       145530.06        323876.68     Florida  155752.60\n",
              "8   120542.52       148718.95        311613.29    New York  152211.77\n",
              "9   123334.88       108679.17        304981.62  California  149759.96\n",
              "10  101913.08       110594.11        229160.95     Florida  146121.95\n",
              "11  100671.96        91790.61        249744.55  California  144259.40\n",
              "12   93863.75       127320.38        249839.44     Florida  141585.52\n",
              "13   91992.39       135495.07        252664.93  California  134307.35\n",
              "14  119943.24       156547.42        256512.92     Florida  132602.65\n",
              "15  114523.61       122616.84        261776.23    New York  129917.04\n",
              "16   78013.11       121597.55        264346.06  California  126992.93\n",
              "17   94657.16       145077.58        282574.31    New York  125370.37\n",
              "18   91749.16       114175.79        294919.57     Florida  124266.90\n",
              "19   86419.70       153514.11             0.00    New York  122776.86\n",
              "20   76253.86       113867.30        298664.47  California  118474.03\n",
              "21   78389.47       153773.43        299737.29    New York  111313.02\n",
              "22   73994.56       122782.75        303319.26     Florida  110352.25\n",
              "23   67532.53       105751.03        304768.73     Florida  108733.99\n",
              "24   77044.01        99281.34        140574.81    New York  108552.04\n",
              "25   64664.71       139553.16        137962.62  California  107404.34\n",
              "26   75328.87       144135.98        134050.07     Florida  105733.54\n",
              "27   72107.60       127864.55        353183.81    New York  105008.31\n",
              "28   66051.52       182645.56        118148.20     Florida  103282.38\n",
              "29   65605.48       153032.06        107138.38    New York  101004.64\n",
              "30   61994.48       115641.28         91131.24     Florida   99937.59\n",
              "31   61136.38       152701.92         88218.23    New York   97483.56\n",
              "32   63408.86       129219.61         46085.25  California   97427.84\n",
              "33   55493.95       103057.49        214634.81     Florida   96778.92\n",
              "34   46426.07       157693.92        210797.67  California   96712.80\n",
              "35   46014.02        85047.44        205517.64    New York   96479.51\n",
              "36   28663.76       127056.21        201126.82     Florida   90708.19\n",
              "37   44069.95        51283.14        197029.42  California   89949.14\n",
              "38   20229.59        65947.93        185265.10    New York   81229.06\n",
              "39   38558.51        82982.09        174999.30  California   81005.76\n",
              "40   28754.33       118546.05        172795.67  California   78239.91\n",
              "41   27892.92        84710.77        164470.71     Florida   77798.83\n",
              "42   23640.93        96189.63        148001.11  California   71498.49\n",
              "43   15505.73       127382.30         35534.17    New York   69758.98\n",
              "44   22177.74       154806.14         28334.72  California   65200.33\n",
              "45    1000.23       124153.04          1903.93    New York   64926.08\n",
              "46    1315.46       115816.21        297114.46     Florida   49490.75\n",
              "47       0.00       135426.92             0.00  California   42559.73\n",
              "48     542.05        51743.15             0.00    New York   35673.41\n",
              "49       0.00       116983.80         45173.06  California   14681.40"
            ]
          },
          "metadata": {},
          "execution_count": 2
        }
      ]
    },
    {
      "cell_type": "markdown",
      "metadata": {
        "id": "AtVJMFZzV2SJ"
      },
      "source": [
        "# ***EDA***"
      ]
    },
    {
      "cell_type": "code",
      "metadata": {
        "colab": {
          "base_uri": "https://localhost:8080/"
        },
        "id": "Lc3pPkWJQkoj",
        "outputId": "049e9b46-97f0-4b22-f9cc-8a1d90ccbeb0"
      },
      "source": [
        "startup_data.info()"
      ],
      "execution_count": 3,
      "outputs": [
        {
          "output_type": "stream",
          "name": "stdout",
          "text": [
            "<class 'pandas.core.frame.DataFrame'>\n",
            "RangeIndex: 50 entries, 0 to 49\n",
            "Data columns (total 5 columns):\n",
            " #   Column           Non-Null Count  Dtype  \n",
            "---  ------           --------------  -----  \n",
            " 0   R&D Spend        50 non-null     float64\n",
            " 1   Administration   50 non-null     float64\n",
            " 2   Marketing Spend  50 non-null     float64\n",
            " 3   State            50 non-null     object \n",
            " 4   Profit           50 non-null     float64\n",
            "dtypes: float64(4), object(1)\n",
            "memory usage: 2.1+ KB\n"
          ]
        }
      ]
    },
    {
      "cell_type": "code",
      "metadata": {
        "colab": {
          "base_uri": "https://localhost:8080/",
          "height": 49
        },
        "id": "zm9hu6-GQk0o",
        "outputId": "74b3717a-2bf1-4da4-a6a6-054e2b41e0ef"
      },
      "source": [
        "startup_data[startup_data.duplicated()]\n"
      ],
      "execution_count": 4,
      "outputs": [
        {
          "output_type": "execute_result",
          "data": {
            "text/html": [
              "<div>\n",
              "<style scoped>\n",
              "    .dataframe tbody tr th:only-of-type {\n",
              "        vertical-align: middle;\n",
              "    }\n",
              "\n",
              "    .dataframe tbody tr th {\n",
              "        vertical-align: top;\n",
              "    }\n",
              "\n",
              "    .dataframe thead th {\n",
              "        text-align: right;\n",
              "    }\n",
              "</style>\n",
              "<table border=\"1\" class=\"dataframe\">\n",
              "  <thead>\n",
              "    <tr style=\"text-align: right;\">\n",
              "      <th></th>\n",
              "      <th>R&amp;D Spend</th>\n",
              "      <th>Administration</th>\n",
              "      <th>Marketing Spend</th>\n",
              "      <th>State</th>\n",
              "      <th>Profit</th>\n",
              "    </tr>\n",
              "  </thead>\n",
              "  <tbody>\n",
              "  </tbody>\n",
              "</table>\n",
              "</div>"
            ],
            "text/plain": [
              "Empty DataFrame\n",
              "Columns: [R&D Spend, Administration, Marketing Spend, State, Profit]\n",
              "Index: []"
            ]
          },
          "metadata": {},
          "execution_count": 4
        }
      ]
    },
    {
      "cell_type": "code",
      "metadata": {
        "colab": {
          "base_uri": "https://localhost:8080/"
        },
        "id": "_n29tjA8RYet",
        "outputId": "891ae306-cffc-4f29-8c26-31662a3c666e"
      },
      "source": [
        "startup_data.isna().sum()"
      ],
      "execution_count": 5,
      "outputs": [
        {
          "output_type": "execute_result",
          "data": {
            "text/plain": [
              "R&D Spend          0\n",
              "Administration     0\n",
              "Marketing Spend    0\n",
              "State              0\n",
              "Profit             0\n",
              "dtype: int64"
            ]
          },
          "metadata": {},
          "execution_count": 5
        }
      ]
    },
    {
      "cell_type": "code",
      "metadata": {
        "colab": {
          "base_uri": "https://localhost:8080/"
        },
        "id": "F3B3fxe3Rw9F",
        "outputId": "57c7b29a-fe8f-4634-a791-294c579c963f"
      },
      "source": [
        "startup_data.shape"
      ],
      "execution_count": 37,
      "outputs": [
        {
          "output_type": "execute_result",
          "data": {
            "text/plain": [
              "(50, 5)"
            ]
          },
          "metadata": {},
          "execution_count": 37
        }
      ]
    },
    {
      "cell_type": "code",
      "metadata": {
        "colab": {
          "base_uri": "https://localhost:8080/",
          "height": 204
        },
        "id": "JaDVU2DVTtA_",
        "outputId": "02ad5582-bae1-4c36-f947-ee161a57a223"
      },
      "source": [
        "startup= startup_data.rename({'R&D Spend':'RD_S', 'Administration':'Admin_S','Marketing Spend': 'MRKT_S'}, axis=1)\n",
        "startup.head()"
      ],
      "execution_count": 38,
      "outputs": [
        {
          "output_type": "execute_result",
          "data": {
            "text/html": [
              "<div>\n",
              "<style scoped>\n",
              "    .dataframe tbody tr th:only-of-type {\n",
              "        vertical-align: middle;\n",
              "    }\n",
              "\n",
              "    .dataframe tbody tr th {\n",
              "        vertical-align: top;\n",
              "    }\n",
              "\n",
              "    .dataframe thead th {\n",
              "        text-align: right;\n",
              "    }\n",
              "</style>\n",
              "<table border=\"1\" class=\"dataframe\">\n",
              "  <thead>\n",
              "    <tr style=\"text-align: right;\">\n",
              "      <th></th>\n",
              "      <th>RD_S</th>\n",
              "      <th>Admin_S</th>\n",
              "      <th>MRKT_S</th>\n",
              "      <th>State</th>\n",
              "      <th>Profit</th>\n",
              "    </tr>\n",
              "  </thead>\n",
              "  <tbody>\n",
              "    <tr>\n",
              "      <th>0</th>\n",
              "      <td>165349.20</td>\n",
              "      <td>136897.80</td>\n",
              "      <td>471784.10</td>\n",
              "      <td>New York</td>\n",
              "      <td>192261.83</td>\n",
              "    </tr>\n",
              "    <tr>\n",
              "      <th>1</th>\n",
              "      <td>162597.70</td>\n",
              "      <td>151377.59</td>\n",
              "      <td>443898.53</td>\n",
              "      <td>California</td>\n",
              "      <td>191792.06</td>\n",
              "    </tr>\n",
              "    <tr>\n",
              "      <th>2</th>\n",
              "      <td>153441.51</td>\n",
              "      <td>101145.55</td>\n",
              "      <td>407934.54</td>\n",
              "      <td>Florida</td>\n",
              "      <td>191050.39</td>\n",
              "    </tr>\n",
              "    <tr>\n",
              "      <th>3</th>\n",
              "      <td>144372.41</td>\n",
              "      <td>118671.85</td>\n",
              "      <td>383199.62</td>\n",
              "      <td>New York</td>\n",
              "      <td>182901.99</td>\n",
              "    </tr>\n",
              "    <tr>\n",
              "      <th>4</th>\n",
              "      <td>142107.34</td>\n",
              "      <td>91391.77</td>\n",
              "      <td>366168.42</td>\n",
              "      <td>Florida</td>\n",
              "      <td>166187.94</td>\n",
              "    </tr>\n",
              "  </tbody>\n",
              "</table>\n",
              "</div>"
            ],
            "text/plain": [
              "        RD_S    Admin_S     MRKT_S       State     Profit\n",
              "0  165349.20  136897.80  471784.10    New York  192261.83\n",
              "1  162597.70  151377.59  443898.53  California  191792.06\n",
              "2  153441.51  101145.55  407934.54     Florida  191050.39\n",
              "3  144372.41  118671.85  383199.62    New York  182901.99\n",
              "4  142107.34   91391.77  366168.42     Florida  166187.94"
            ]
          },
          "metadata": {},
          "execution_count": 38
        }
      ]
    },
    {
      "cell_type": "code",
      "metadata": {
        "colab": {
          "base_uri": "https://localhost:8080/",
          "height": 173
        },
        "id": "l0pdw-x8Xjs1",
        "outputId": "6c840fa0-3f38-4436-975c-ce4e59e208f5"
      },
      "source": [
        "startup.corr()"
      ],
      "execution_count": 9,
      "outputs": [
        {
          "output_type": "execute_result",
          "data": {
            "text/html": [
              "<div>\n",
              "<style scoped>\n",
              "    .dataframe tbody tr th:only-of-type {\n",
              "        vertical-align: middle;\n",
              "    }\n",
              "\n",
              "    .dataframe tbody tr th {\n",
              "        vertical-align: top;\n",
              "    }\n",
              "\n",
              "    .dataframe thead th {\n",
              "        text-align: right;\n",
              "    }\n",
              "</style>\n",
              "<table border=\"1\" class=\"dataframe\">\n",
              "  <thead>\n",
              "    <tr style=\"text-align: right;\">\n",
              "      <th></th>\n",
              "      <th>RD_S</th>\n",
              "      <th>Admin_S</th>\n",
              "      <th>MRKT_S</th>\n",
              "      <th>Profit</th>\n",
              "    </tr>\n",
              "  </thead>\n",
              "  <tbody>\n",
              "    <tr>\n",
              "      <th>RD_S</th>\n",
              "      <td>1.000000</td>\n",
              "      <td>0.241955</td>\n",
              "      <td>0.724248</td>\n",
              "      <td>0.972900</td>\n",
              "    </tr>\n",
              "    <tr>\n",
              "      <th>Admin_S</th>\n",
              "      <td>0.241955</td>\n",
              "      <td>1.000000</td>\n",
              "      <td>-0.032154</td>\n",
              "      <td>0.200717</td>\n",
              "    </tr>\n",
              "    <tr>\n",
              "      <th>MRKT_S</th>\n",
              "      <td>0.724248</td>\n",
              "      <td>-0.032154</td>\n",
              "      <td>1.000000</td>\n",
              "      <td>0.747766</td>\n",
              "    </tr>\n",
              "    <tr>\n",
              "      <th>Profit</th>\n",
              "      <td>0.972900</td>\n",
              "      <td>0.200717</td>\n",
              "      <td>0.747766</td>\n",
              "      <td>1.000000</td>\n",
              "    </tr>\n",
              "  </tbody>\n",
              "</table>\n",
              "</div>"
            ],
            "text/plain": [
              "             RD_S   Admin_S    MRKT_S    Profit\n",
              "RD_S     1.000000  0.241955  0.724248  0.972900\n",
              "Admin_S  0.241955  1.000000 -0.032154  0.200717\n",
              "MRKT_S   0.724248 -0.032154  1.000000  0.747766\n",
              "Profit   0.972900  0.200717  0.747766  1.000000"
            ]
          },
          "metadata": {},
          "execution_count": 9
        }
      ]
    },
    {
      "cell_type": "code",
      "metadata": {
        "colab": {
          "base_uri": "https://localhost:8080/",
          "height": 743
        },
        "id": "JdxRHFbWQk6G",
        "outputId": "789af6d0-dca5-46fa-af1d-8acfe2d23c3a"
      },
      "source": [
        "sns.set_style(style='darkgrid')\n",
        "sns.pairplot(startup)"
      ],
      "execution_count": 10,
      "outputs": [
        {
          "output_type": "execute_result",
          "data": {
            "text/plain": [
              "<seaborn.axisgrid.PairGrid at 0x7febda1faf10>"
            ]
          },
          "metadata": {},
          "execution_count": 10
        },
        {
          "output_type": "display_data",
          "data": {
            "image/png": "[encoded data removed]",
            "text/plain": [
              "<Figure size 720x720 with 20 Axes>"
            ]
          },
          "metadata": {}
        }
      ]
    },
    {
      "cell_type": "markdown",
      "metadata": {
        "id": "wEqu98mTR0sH"
      },
      "source": [
        "# Normalizing Data"
      ]
    },
    {
      "cell_type": "code",
      "metadata": {
        "colab": {
          "base_uri": "https://localhost:8080/",
          "height": 204
        },
        "id": "YTOEj4lBLZuc",
        "outputId": "bac7cfa3-4b2a-4a8e-b648-6763b76d1f26"
      },
      "source": [
        "startup1 = startup\n",
        "startup1.head()"
      ],
      "execution_count": 39,
      "outputs": [
        {
          "output_type": "execute_result",
          "data": {
            "text/html": [
              "<div>\n",
              "<style scoped>\n",
              "    .dataframe tbody tr th:only-of-type {\n",
              "        vertical-align: middle;\n",
              "    }\n",
              "\n",
              "    .dataframe tbody tr th {\n",
              "        vertical-align: top;\n",
              "    }\n",
              "\n",
              "    .dataframe thead th {\n",
              "        text-align: right;\n",
              "    }\n",
              "</style>\n",
              "<table border=\"1\" class=\"dataframe\">\n",
              "  <thead>\n",
              "    <tr style=\"text-align: right;\">\n",
              "      <th></th>\n",
              "      <th>RD_S</th>\n",
              "      <th>Admin_S</th>\n",
              "      <th>MRKT_S</th>\n",
              "      <th>State</th>\n",
              "      <th>Profit</th>\n",
              "    </tr>\n",
              "  </thead>\n",
              "  <tbody>\n",
              "    <tr>\n",
              "      <th>0</th>\n",
              "      <td>165349.20</td>\n",
              "      <td>136897.80</td>\n",
              "      <td>471784.10</td>\n",
              "      <td>New York</td>\n",
              "      <td>192261.83</td>\n",
              "    </tr>\n",
              "    <tr>\n",
              "      <th>1</th>\n",
              "      <td>162597.70</td>\n",
              "      <td>151377.59</td>\n",
              "      <td>443898.53</td>\n",
              "      <td>California</td>\n",
              "      <td>191792.06</td>\n",
              "    </tr>\n",
              "    <tr>\n",
              "      <th>2</th>\n",
              "      <td>153441.51</td>\n",
              "      <td>101145.55</td>\n",
              "      <td>407934.54</td>\n",
              "      <td>Florida</td>\n",
              "      <td>191050.39</td>\n",
              "    </tr>\n",
              "    <tr>\n",
              "      <th>3</th>\n",
              "      <td>144372.41</td>\n",
              "      <td>118671.85</td>\n",
              "      <td>383199.62</td>\n",
              "      <td>New York</td>\n",
              "      <td>182901.99</td>\n",
              "    </tr>\n",
              "    <tr>\n",
              "      <th>4</th>\n",
              "      <td>142107.34</td>\n",
              "      <td>91391.77</td>\n",
              "      <td>366168.42</td>\n",
              "      <td>Florida</td>\n",
              "      <td>166187.94</td>\n",
              "    </tr>\n",
              "  </tbody>\n",
              "</table>\n",
              "</div>"
            ],
            "text/plain": [
              "        RD_S    Admin_S     MRKT_S       State     Profit\n",
              "0  165349.20  136897.80  471784.10    New York  192261.83\n",
              "1  162597.70  151377.59  443898.53  California  191792.06\n",
              "2  153441.51  101145.55  407934.54     Florida  191050.39\n",
              "3  144372.41  118671.85  383199.62    New York  182901.99\n",
              "4  142107.34   91391.77  366168.42     Florida  166187.94"
            ]
          },
          "metadata": {},
          "execution_count": 39
        }
      ]
    },
    {
      "cell_type": "code",
      "metadata": {
        "colab": {
          "base_uri": "https://localhost:8080/",
          "height": 204
        },
        "id": "JaQMb3TQMPK6",
        "outputId": "5d3fd6f3-73ec-4c59-b279-6ce2c6b360e2"
      },
      "source": [
        "# Drop 'State' column, since it is non numrical\n",
        "startup1.drop(['State'], axis=1, inplace=True)\n",
        "startup1.head()"
      ],
      "execution_count": 51,
      "outputs": [
        {
          "output_type": "execute_result",
          "data": {
            "text/html": [
              "<div>\n",
              "<style scoped>\n",
              "    .dataframe tbody tr th:only-of-type {\n",
              "        vertical-align: middle;\n",
              "    }\n",
              "\n",
              "    .dataframe tbody tr th {\n",
              "        vertical-align: top;\n",
              "    }\n",
              "\n",
              "    .dataframe thead th {\n",
              "        text-align: right;\n",
              "    }\n",
              "</style>\n",
              "<table border=\"1\" class=\"dataframe\">\n",
              "  <thead>\n",
              "    <tr style=\"text-align: right;\">\n",
              "      <th></th>\n",
              "      <th>RD_S</th>\n",
              "      <th>Admin_S</th>\n",
              "      <th>MRKT_S</th>\n",
              "      <th>Profit</th>\n",
              "    </tr>\n",
              "  </thead>\n",
              "  <tbody>\n",
              "    <tr>\n",
              "      <th>0</th>\n",
              "      <td>165349.20</td>\n",
              "      <td>136897.80</td>\n",
              "      <td>471784.10</td>\n",
              "      <td>192261.83</td>\n",
              "    </tr>\n",
              "    <tr>\n",
              "      <th>1</th>\n",
              "      <td>162597.70</td>\n",
              "      <td>151377.59</td>\n",
              "      <td>443898.53</td>\n",
              "      <td>191792.06</td>\n",
              "    </tr>\n",
              "    <tr>\n",
              "      <th>2</th>\n",
              "      <td>153441.51</td>\n",
              "      <td>101145.55</td>\n",
              "      <td>407934.54</td>\n",
              "      <td>191050.39</td>\n",
              "    </tr>\n",
              "    <tr>\n",
              "      <th>3</th>\n",
              "      <td>144372.41</td>\n",
              "      <td>118671.85</td>\n",
              "      <td>383199.62</td>\n",
              "      <td>182901.99</td>\n",
              "    </tr>\n",
              "    <tr>\n",
              "      <th>4</th>\n",
              "      <td>142107.34</td>\n",
              "      <td>91391.77</td>\n",
              "      <td>366168.42</td>\n",
              "      <td>166187.94</td>\n",
              "    </tr>\n",
              "  </tbody>\n",
              "</table>\n",
              "</div>"
            ],
            "text/plain": [
              "        RD_S    Admin_S     MRKT_S     Profit\n",
              "0  165349.20  136897.80  471784.10  192261.83\n",
              "1  162597.70  151377.59  443898.53  191792.06\n",
              "2  153441.51  101145.55  407934.54  191050.39\n",
              "3  144372.41  118671.85  383199.62  182901.99\n",
              "4  142107.34   91391.77  366168.42  166187.94"
            ]
          },
          "metadata": {},
          "execution_count": 51
        }
      ]
    },
    {
      "cell_type": "code",
      "metadata": {
        "id": "Djt9fDpUKw3O"
      },
      "source": [
        "from sklearn.preprocessing import MinMaxScaler\n",
        "norm =MinMaxScaler()\n",
        "startup_norm = norm.fit_transform(startup1)"
      ],
      "execution_count": 41,
      "outputs": []
    },
    {
      "cell_type": "code",
      "metadata": {
        "colab": {
          "base_uri": "https://localhost:8080/"
        },
        "id": "aZHArxRTOiMm",
        "outputId": "ef9bff5a-e9e1-4b4e-dacb-5076f40d36b0"
      },
      "source": [
        "startup_norm"
      ],
      "execution_count": 53,
      "outputs": [
        {
          "output_type": "execute_result",
          "data": {
            "text/plain": [
              "array([[1.        , 0.65174393, 1.        , 1.        ],\n",
              "       [0.98335946, 0.76197173, 0.94089337, 0.99735461],\n",
              "       [0.92798459, 0.37957895, 0.8646636 , 0.99317808],\n",
              "       [0.87313643, 0.51299839, 0.81223513, 0.94729239],\n",
              "       [0.85943772, 0.30532804, 0.77613557, 0.85317138],\n",
              "       [0.797566  , 0.3694479 , 0.76912588, 0.80138177],\n",
              "       [0.81412828, 0.73016111, 0.27071031, 0.79649041],\n",
              "       [0.7880179 , 0.71745725, 0.68649342, 0.79440736],\n",
              "       [0.72901786, 0.74173276, 0.66049977, 0.77446805],\n",
              "       [0.74590551, 0.43692884, 0.64644319, 0.7606613 ],\n",
              "       [0.61635061, 0.45150637, 0.48573267, 0.74017475],\n",
              "       [0.60884455, 0.30836422, 0.52936195, 0.72968626],\n",
              "       [0.56766982, 0.57883556, 0.52956308, 0.71462897],\n",
              "       [0.55635219, 0.64106561, 0.53555202, 0.67364377],\n",
              "       [0.72539353, 0.8013272 , 0.54370828, 0.66404417],\n",
              "       [0.69261666, 0.54302973, 0.55486446, 0.64892083],\n",
              "       [0.47180821, 0.53527036, 0.56031151, 0.63245443],\n",
              "       [0.57246821, 0.71401273, 0.59894835, 0.62331739],\n",
              "       [0.55488118, 0.47877201, 0.62511553, 0.61710347],\n",
              "       [0.52264964, 0.77823604, 0.        , 0.60871268],\n",
              "       [0.46116861, 0.47642362, 0.63305328, 0.58448237],\n",
              "       [0.47408436, 0.78021012, 0.63532724, 0.54415692],\n",
              "       [0.4475048 , 0.54429273, 0.64291963, 0.53874658],\n",
              "       [0.40842369, 0.4146383 , 0.64599195, 0.52963376],\n",
              "       [0.46594728, 0.3653876 , 0.29796428, 0.52860915],\n",
              "       [0.39107967, 0.67195793, 0.29242745, 0.52214616],\n",
              "       [0.45557444, 0.70684477, 0.28413435, 0.51273747],\n",
              "       [0.43609283, 0.58297807, 0.74861321, 0.50865352],\n",
              "       [0.39946683, 1.        , 0.25042853, 0.49893437],\n",
              "       [0.39676926, 0.77456642, 0.22709197, 0.48610784],\n",
              "       [0.37493063, 0.48992809, 0.19316302, 0.48009902],\n",
              "       [0.36974101, 0.77205322, 0.18698856, 0.46627976],\n",
              "       [0.38348453, 0.5932935 , 0.09768292, 0.46596599],\n",
              "       [0.33561668, 0.39413365, 0.45494286, 0.46231175],\n",
              "       [0.2807759 , 0.81005496, 0.44680961, 0.46193942],\n",
              "       [0.2782839 , 0.25703165, 0.43561799, 0.4606257 ],\n",
              "       [0.17335288, 0.57682456, 0.42631115, 0.42812595],\n",
              "       [0.26652654, 0.        , 0.41762624, 0.42385155],\n",
              "       [0.12234465, 0.11163611, 0.39269043, 0.37474659],\n",
              "       [0.23319442, 0.24130912, 0.3709309 , 0.37348913],\n",
              "       [0.17390063, 0.51204073, 0.36626005, 0.35791393],\n",
              "       [0.16869099, 0.25446874, 0.34861436, 0.3554301 ],\n",
              "       [0.14297577, 0.34185188, 0.31370517, 0.3199513 ],\n",
              "       [0.09377566, 0.57930693, 0.07531871, 0.31015569],\n",
              "       [0.13412668, 0.78807166, 0.06005866, 0.28448478],\n",
              "       [0.0060492 , 0.5547241 , 0.0040356 , 0.28294041],\n",
              "       [0.00795565, 0.49125975, 0.62976785, 0.19602019],\n",
              "       [0.        , 0.64054682, 0.        , 0.15698988],\n",
              "       [0.00327821, 0.00350184, 0.        , 0.11821128],\n",
              "       [0.        , 0.50014806, 0.09574943, 0.        ]])"
            ]
          },
          "metadata": {},
          "execution_count": 53
        }
      ]
    },
    {
      "cell_type": "code",
      "metadata": {
        "id": "W2bzlS-bguhG"
      },
      "source": [
        "startup_df = pd.DataFrame(startup_norm)"
      ],
      "execution_count": 80,
      "outputs": []
    },
    {
      "cell_type": "code",
      "metadata": {
        "colab": {
          "base_uri": "https://localhost:8080/",
          "height": 204
        },
        "id": "gLbj2epuQnbe",
        "outputId": "6572ba96-9add-4749-ee94-26ae886658ab"
      },
      "source": [
        "startup_df.columns=['RD_S',\t'Admin_S',\t'MRKT_S', 'Profit']\n",
        "startup_df.head()"
      ],
      "execution_count": 81,
      "outputs": [
        {
          "output_type": "execute_result",
          "data": {
            "text/html": [
              "<div>\n",
              "<style scoped>\n",
              "    .dataframe tbody tr th:only-of-type {\n",
              "        vertical-align: middle;\n",
              "    }\n",
              "\n",
              "    .dataframe tbody tr th {\n",
              "        vertical-align: top;\n",
              "    }\n",
              "\n",
              "    .dataframe thead th {\n",
              "        text-align: right;\n",
              "    }\n",
              "</style>\n",
              "<table border=\"1\" class=\"dataframe\">\n",
              "  <thead>\n",
              "    <tr style=\"text-align: right;\">\n",
              "      <th></th>\n",
              "      <th>RD_S</th>\n",
              "      <th>Admin_S</th>\n",
              "      <th>MRKT_S</th>\n",
              "      <th>Profit</th>\n",
              "    </tr>\n",
              "  </thead>\n",
              "  <tbody>\n",
              "    <tr>\n",
              "      <th>0</th>\n",
              "      <td>1.000000</td>\n",
              "      <td>0.651744</td>\n",
              "      <td>1.000000</td>\n",
              "      <td>1.000000</td>\n",
              "    </tr>\n",
              "    <tr>\n",
              "      <th>1</th>\n",
              "      <td>0.983359</td>\n",
              "      <td>0.761972</td>\n",
              "      <td>0.940893</td>\n",
              "      <td>0.997355</td>\n",
              "    </tr>\n",
              "    <tr>\n",
              "      <th>2</th>\n",
              "      <td>0.927985</td>\n",
              "      <td>0.379579</td>\n",
              "      <td>0.864664</td>\n",
              "      <td>0.993178</td>\n",
              "    </tr>\n",
              "    <tr>\n",
              "      <th>3</th>\n",
              "      <td>0.873136</td>\n",
              "      <td>0.512998</td>\n",
              "      <td>0.812235</td>\n",
              "      <td>0.947292</td>\n",
              "    </tr>\n",
              "    <tr>\n",
              "      <th>4</th>\n",
              "      <td>0.859438</td>\n",
              "      <td>0.305328</td>\n",
              "      <td>0.776136</td>\n",
              "      <td>0.853171</td>\n",
              "    </tr>\n",
              "  </tbody>\n",
              "</table>\n",
              "</div>"
            ],
            "text/plain": [
              "       RD_S   Admin_S    MRKT_S    Profit\n",
              "0  1.000000  0.651744  1.000000  1.000000\n",
              "1  0.983359  0.761972  0.940893  0.997355\n",
              "2  0.927985  0.379579  0.864664  0.993178\n",
              "3  0.873136  0.512998  0.812235  0.947292\n",
              "4  0.859438  0.305328  0.776136  0.853171"
            ]
          },
          "metadata": {},
          "execution_count": 81
        }
      ]
    },
    {
      "cell_type": "markdown",
      "metadata": {
        "id": "auz7hmREW8Pm"
      },
      "source": [
        "# ***Model Building***"
      ]
    },
    {
      "cell_type": "code",
      "metadata": {
        "id": "E-RY6BhNQk9e"
      },
      "source": [
        "model = smf.ols('Profit ~RD_S+Admin_S+MRKT_S', data= startup_df).fit()"
      ],
      "execution_count": 48,
      "outputs": []
    },
    {
      "cell_type": "code",
      "metadata": {
        "colab": {
          "base_uri": "https://localhost:8080/"
        },
        "id": "ZN9tO1qtQk_x",
        "outputId": "ac20668c-dcdb-4183-9ed2-68219c41decd"
      },
      "source": [
        "model.params"
      ],
      "execution_count": 49,
      "outputs": [
        {
          "output_type": "execute_result",
          "data": {
            "text/plain": [
              "Intercept    0.191832\n",
              "RD_S         0.750220\n",
              "Admin_S     -0.019837\n",
              "MRKT_S       0.072338\n",
              "dtype: float64"
            ]
          },
          "metadata": {},
          "execution_count": 49
        }
      ]
    },
    {
      "cell_type": "code",
      "metadata": {
        "colab": {
          "base_uri": "https://localhost:8080/"
        },
        "id": "C7IthLd4QlCf",
        "outputId": "f13d5413-ebde-42f8-9ce7-37ef929b172d"
      },
      "source": [
        "np.round(model.tvalues, 4),np.round(model.pvalues, 4)"
      ],
      "execution_count": 50,
      "outputs": [
        {
          "output_type": "execute_result",
          "data": {
            "text/plain": [
              "(Intercept     7.8760\n",
              " RD_S         17.8464\n",
              " Admin_S      -0.5255\n",
              " MRKT_S        1.6551\n",
              " dtype: float64, Intercept    0.0000\n",
              " RD_S         0.0000\n",
              " Admin_S      0.6018\n",
              " MRKT_S       0.1047\n",
              " dtype: float64)"
            ]
          },
          "metadata": {},
          "execution_count": 50
        }
      ]
    },
    {
      "cell_type": "markdown",
      "metadata": {
        "id": "DpuPh7ctZBcC"
      },
      "source": [
        "**Admin_S & MRKT_S are insignificant**"
      ]
    },
    {
      "cell_type": "code",
      "metadata": {
        "colab": {
          "base_uri": "https://localhost:8080/",
          "height": 486
        },
        "id": "M9EL4T54QlFE",
        "outputId": "6c436e8a-9221-4f85-fc3d-fde635a0fb61"
      },
      "source": [
        "model.summary()"
      ],
      "execution_count": 54,
      "outputs": [
        {
          "output_type": "execute_result",
          "data": {
            "text/html": [
              "<table class=\"simpletable\">\n",
              "<caption>OLS Regression Results</caption>\n",
              "<tr>\n",
              "  <th>Dep. Variable:</th>         <td>Profit</td>      <th>  R-squared:         </th> <td>   0.951</td>\n",
              "</tr>\n",
              "<tr>\n",
              "  <th>Model:</th>                   <td>OLS</td>       <th>  Adj. R-squared:    </th> <td>   0.948</td>\n",
              "</tr>\n",
              "<tr>\n",
              "  <th>Method:</th>             <td>Least Squares</td>  <th>  F-statistic:       </th> <td>   296.0</td>\n",
              "</tr>\n",
              "<tr>\n",
              "  <th>Date:</th>             <td>Mon, 30 Aug 2021</td> <th>  Prob (F-statistic):</th> <td>4.53e-30</td>\n",
              "</tr>\n",
              "<tr>\n",
              "  <th>Time:</th>                 <td>18:22:24</td>     <th>  Log-Likelihood:    </th> <td>  78.973</td>\n",
              "</tr>\n",
              "<tr>\n",
              "  <th>No. Observations:</th>      <td>    50</td>      <th>  AIC:               </th> <td>  -149.9</td>\n",
              "</tr>\n",
              "<tr>\n",
              "  <th>Df Residuals:</th>          <td>    46</td>      <th>  BIC:               </th> <td>  -142.3</td>\n",
              "</tr>\n",
              "<tr>\n",
              "  <th>Df Model:</th>              <td>     3</td>      <th>                     </th>     <td> </td>   \n",
              "</tr>\n",
              "<tr>\n",
              "  <th>Covariance Type:</th>      <td>nonrobust</td>    <th>                     </th>     <td> </td>   \n",
              "</tr>\n",
              "</table>\n",
              "<table class=\"simpletable\">\n",
              "<tr>\n",
              "      <td></td>         <th>coef</th>     <th>std err</th>      <th>t</th>      <th>P>|t|</th>  <th>[0.025</th>    <th>0.975]</th>  \n",
              "</tr>\n",
              "<tr>\n",
              "  <th>Intercept</th> <td>    0.1918</td> <td>    0.024</td> <td>    7.876</td> <td> 0.000</td> <td>    0.143</td> <td>    0.241</td>\n",
              "</tr>\n",
              "<tr>\n",
              "  <th>RD_S</th>      <td>    0.7502</td> <td>    0.042</td> <td>   17.846</td> <td> 0.000</td> <td>    0.666</td> <td>    0.835</td>\n",
              "</tr>\n",
              "<tr>\n",
              "  <th>Admin_S</th>   <td>   -0.0198</td> <td>    0.038</td> <td>   -0.526</td> <td> 0.602</td> <td>   -0.096</td> <td>    0.056</td>\n",
              "</tr>\n",
              "<tr>\n",
              "  <th>MRKT_S</th>    <td>    0.0723</td> <td>    0.044</td> <td>    1.655</td> <td> 0.105</td> <td>   -0.016</td> <td>    0.160</td>\n",
              "</tr>\n",
              "</table>\n",
              "<table class=\"simpletable\">\n",
              "<tr>\n",
              "  <th>Omnibus:</th>       <td>14.838</td> <th>  Durbin-Watson:     </th> <td>   1.282</td>\n",
              "</tr>\n",
              "<tr>\n",
              "  <th>Prob(Omnibus):</th> <td> 0.001</td> <th>  Jarque-Bera (JB):  </th> <td>  21.442</td>\n",
              "</tr>\n",
              "<tr>\n",
              "  <th>Skew:</th>          <td>-0.949</td> <th>  Prob(JB):          </th> <td>2.21e-05</td>\n",
              "</tr>\n",
              "<tr>\n",
              "  <th>Kurtosis:</th>      <td> 5.586</td> <th>  Cond. No.          </th> <td>    10.8</td>\n",
              "</tr>\n",
              "</table><br/><br/>Warnings:<br/>[1] Standard Errors assume that the covariance matrix of the errors is correctly specified."
            ],
            "text/plain": [
              "<class 'statsmodels.iolib.summary.Summary'>\n",
              "\"\"\"\n",
              "                            OLS Regression Results                            \n",
              "==============================================================================\n",
              "Dep. Variable:                 Profit   R-squared:                       0.951\n",
              "Model:                            OLS   Adj. R-squared:                  0.948\n",
              "Method:                 Least Squares   F-statistic:                     296.0\n",
              "Date:                Mon, 30 Aug 2021   Prob (F-statistic):           4.53e-30\n",
              "Time:                        18:22:24   Log-Likelihood:                 78.973\n",
              "No. Observations:                  50   AIC:                            -149.9\n",
              "Df Residuals:                      46   BIC:                            -142.3\n",
              "Df Model:                           3                                         \n",
              "Covariance Type:            nonrobust                                         \n",
              "==============================================================================\n",
              "                 coef    std err          t      P>|t|      [0.025      0.975]\n",
              "------------------------------------------------------------------------------\n",
              "Intercept      0.1918      0.024      7.876      0.000       0.143       0.241\n",
              "RD_S           0.7502      0.042     17.846      0.000       0.666       0.835\n",
              "Admin_S       -0.0198      0.038     -0.526      0.602      -0.096       0.056\n",
              "MRKT_S         0.0723      0.044      1.655      0.105      -0.016       0.160\n",
              "==============================================================================\n",
              "Omnibus:                       14.838   Durbin-Watson:                   1.282\n",
              "Prob(Omnibus):                  0.001   Jarque-Bera (JB):               21.442\n",
              "Skew:                          -0.949   Prob(JB):                     2.21e-05\n",
              "Kurtosis:                       5.586   Cond. No.                         10.8\n",
              "==============================================================================\n",
              "\n",
              "Warnings:\n",
              "[1] Standard Errors assume that the covariance matrix of the errors is correctly specified.\n",
              "\"\"\""
            ]
          },
          "metadata": {},
          "execution_count": 54
        }
      ]
    },
    {
      "cell_type": "markdown",
      "metadata": {
        "id": "vau9_nMGZYVN"
      },
      "source": [
        "# Building SLR for insignificant variables, Admin_S & MRKT_S"
      ]
    },
    {
      "cell_type": "code",
      "metadata": {
        "id": "0UeQchi6QlHl"
      },
      "source": [
        "# SLR for Admin_S\n",
        "slr_A = smf.ols('Profit~ Admin_S', data= startup_df).fit()"
      ],
      "execution_count": 55,
      "outputs": []
    },
    {
      "cell_type": "code",
      "metadata": {
        "colab": {
          "base_uri": "https://localhost:8080/",
          "height": 444
        },
        "id": "kUj-bSn5QlKF",
        "outputId": "2beb6b37-2171-4f5b-d6a8-65a6aa7b02a0"
      },
      "source": [
        "slr_A.summary()"
      ],
      "execution_count": 56,
      "outputs": [
        {
          "output_type": "execute_result",
          "data": {
            "text/html": [
              "<table class=\"simpletable\">\n",
              "<caption>OLS Regression Results</caption>\n",
              "<tr>\n",
              "  <th>Dep. Variable:</th>         <td>Profit</td>      <th>  R-squared:         </th> <td>   0.040</td>\n",
              "</tr>\n",
              "<tr>\n",
              "  <th>Model:</th>                   <td>OLS</td>       <th>  Adj. R-squared:    </th> <td>   0.020</td>\n",
              "</tr>\n",
              "<tr>\n",
              "  <th>Method:</th>             <td>Least Squares</td>  <th>  F-statistic:       </th> <td>   2.015</td>\n",
              "</tr>\n",
              "<tr>\n",
              "  <th>Date:</th>             <td>Mon, 30 Aug 2021</td> <th>  Prob (F-statistic):</th>  <td> 0.162</td> \n",
              "</tr>\n",
              "<tr>\n",
              "  <th>Time:</th>                 <td>18:23:10</td>     <th>  Log-Likelihood:    </th> <td>  4.7321</td>\n",
              "</tr>\n",
              "<tr>\n",
              "  <th>No. Observations:</th>      <td>    50</td>      <th>  AIC:               </th> <td>  -5.464</td>\n",
              "</tr>\n",
              "<tr>\n",
              "  <th>Df Residuals:</th>          <td>    48</td>      <th>  BIC:               </th> <td>  -1.640</td>\n",
              "</tr>\n",
              "<tr>\n",
              "  <th>Df Model:</th>              <td>     1</td>      <th>                     </th>     <td> </td>   \n",
              "</tr>\n",
              "<tr>\n",
              "  <th>Covariance Type:</th>      <td>nonrobust</td>    <th>                     </th>     <td> </td>   \n",
              "</tr>\n",
              "</table>\n",
              "<table class=\"simpletable\">\n",
              "<tr>\n",
              "      <td></td>         <th>coef</th>     <th>std err</th>      <th>t</th>      <th>P>|t|</th>  <th>[0.025</th>    <th>0.975]</th>  \n",
              "</tr>\n",
              "<tr>\n",
              "  <th>Intercept</th> <td>    0.4342</td> <td>    0.086</td> <td>    5.030</td> <td> 0.000</td> <td>    0.261</td> <td>    0.608</td>\n",
              "</tr>\n",
              "<tr>\n",
              "  <th>Admin_S</th>   <td>    0.2136</td> <td>    0.150</td> <td>    1.419</td> <td> 0.162</td> <td>   -0.089</td> <td>    0.516</td>\n",
              "</tr>\n",
              "</table>\n",
              "<table class=\"simpletable\">\n",
              "<tr>\n",
              "  <th>Omnibus:</th>       <td> 0.126</td> <th>  Durbin-Watson:     </th> <td>   0.099</td>\n",
              "</tr>\n",
              "<tr>\n",
              "  <th>Prob(Omnibus):</th> <td> 0.939</td> <th>  Jarque-Bera (JB):  </th> <td>   0.110</td>\n",
              "</tr>\n",
              "<tr>\n",
              "  <th>Skew:</th>          <td> 0.093</td> <th>  Prob(JB):          </th> <td>   0.947</td>\n",
              "</tr>\n",
              "<tr>\n",
              "  <th>Kurtosis:</th>      <td> 2.866</td> <th>  Cond. No.          </th> <td>    6.13</td>\n",
              "</tr>\n",
              "</table><br/><br/>Warnings:<br/>[1] Standard Errors assume that the covariance matrix of the errors is correctly specified."
            ],
            "text/plain": [
              "<class 'statsmodels.iolib.summary.Summary'>\n",
              "\"\"\"\n",
              "                            OLS Regression Results                            \n",
              "==============================================================================\n",
              "Dep. Variable:                 Profit   R-squared:                       0.040\n",
              "Model:                            OLS   Adj. R-squared:                  0.020\n",
              "Method:                 Least Squares   F-statistic:                     2.015\n",
              "Date:                Mon, 30 Aug 2021   Prob (F-statistic):              0.162\n",
              "Time:                        18:23:10   Log-Likelihood:                 4.7321\n",
              "No. Observations:                  50   AIC:                            -5.464\n",
              "Df Residuals:                      48   BIC:                            -1.640\n",
              "Df Model:                           1                                         \n",
              "Covariance Type:            nonrobust                                         \n",
              "==============================================================================\n",
              "                 coef    std err          t      P>|t|      [0.025      0.975]\n",
              "------------------------------------------------------------------------------\n",
              "Intercept      0.4342      0.086      5.030      0.000       0.261       0.608\n",
              "Admin_S        0.2136      0.150      1.419      0.162      -0.089       0.516\n",
              "==============================================================================\n",
              "Omnibus:                        0.126   Durbin-Watson:                   0.099\n",
              "Prob(Omnibus):                  0.939   Jarque-Bera (JB):                0.110\n",
              "Skew:                           0.093   Prob(JB):                        0.947\n",
              "Kurtosis:                       2.866   Cond. No.                         6.13\n",
              "==============================================================================\n",
              "\n",
              "Warnings:\n",
              "[1] Standard Errors assume that the covariance matrix of the errors is correctly specified.\n",
              "\"\"\""
            ]
          },
          "metadata": {},
          "execution_count": 56
        }
      ]
    },
    {
      "cell_type": "markdown",
      "metadata": {
        "id": "HFqyG0rXbFwd"
      },
      "source": [
        "**Admin_S is again insignificant**"
      ]
    },
    {
      "cell_type": "code",
      "metadata": {
        "id": "-1Y89k4KQlMw"
      },
      "source": [
        "# SLR for MRKT_S\n",
        "slr_M = smf.ols('Profit~ MRKT_S', data= startup_df).fit()"
      ],
      "execution_count": 57,
      "outputs": []
    },
    {
      "cell_type": "code",
      "metadata": {
        "colab": {
          "base_uri": "https://localhost:8080/",
          "height": 444
        },
        "id": "Fo9MnEbpQlO4",
        "outputId": "943b49a4-2176-48b7-8125-dfa740c6532a"
      },
      "source": [
        "slr_M.summary()"
      ],
      "execution_count": 58,
      "outputs": [
        {
          "output_type": "execute_result",
          "data": {
            "text/html": [
              "<table class=\"simpletable\">\n",
              "<caption>OLS Regression Results</caption>\n",
              "<tr>\n",
              "  <th>Dep. Variable:</th>         <td>Profit</td>      <th>  R-squared:         </th> <td>   0.559</td>\n",
              "</tr>\n",
              "<tr>\n",
              "  <th>Model:</th>                   <td>OLS</td>       <th>  Adj. R-squared:    </th> <td>   0.550</td>\n",
              "</tr>\n",
              "<tr>\n",
              "  <th>Method:</th>             <td>Least Squares</td>  <th>  F-statistic:       </th> <td>   60.88</td>\n",
              "</tr>\n",
              "<tr>\n",
              "  <th>Date:</th>             <td>Mon, 30 Aug 2021</td> <th>  Prob (F-statistic):</th> <td>4.38e-10</td>\n",
              "</tr>\n",
              "<tr>\n",
              "  <th>Time:</th>                 <td>18:23:58</td>     <th>  Log-Likelihood:    </th> <td>  24.181</td>\n",
              "</tr>\n",
              "<tr>\n",
              "  <th>No. Observations:</th>      <td>    50</td>      <th>  AIC:               </th> <td>  -44.36</td>\n",
              "</tr>\n",
              "<tr>\n",
              "  <th>Df Residuals:</th>          <td>    48</td>      <th>  BIC:               </th> <td>  -40.54</td>\n",
              "</tr>\n",
              "<tr>\n",
              "  <th>Df Model:</th>              <td>     1</td>      <th>                     </th>     <td> </td>   \n",
              "</tr>\n",
              "<tr>\n",
              "  <th>Covariance Type:</th>      <td>nonrobust</td>    <th>                     </th>     <td> </td>   \n",
              "</tr>\n",
              "</table>\n",
              "<table class=\"simpletable\">\n",
              "<tr>\n",
              "      <td></td>         <th>coef</th>     <th>std err</th>      <th>t</th>      <th>P>|t|</th>  <th>[0.025</th>    <th>0.975]</th>  \n",
              "</tr>\n",
              "<tr>\n",
              "  <th>Intercept</th> <td>    0.2552</td> <td>    0.043</td> <td>    5.898</td> <td> 0.000</td> <td>    0.168</td> <td>    0.342</td>\n",
              "</tr>\n",
              "<tr>\n",
              "  <th>MRKT_S</th>    <td>    0.6548</td> <td>    0.084</td> <td>    7.803</td> <td> 0.000</td> <td>    0.486</td> <td>    0.824</td>\n",
              "</tr>\n",
              "</table>\n",
              "<table class=\"simpletable\">\n",
              "<tr>\n",
              "  <th>Omnibus:</th>       <td> 4.420</td> <th>  Durbin-Watson:     </th> <td>   1.178</td>\n",
              "</tr>\n",
              "<tr>\n",
              "  <th>Prob(Omnibus):</th> <td> 0.110</td> <th>  Jarque-Bera (JB):  </th> <td>   3.882</td>\n",
              "</tr>\n",
              "<tr>\n",
              "  <th>Skew:</th>          <td>-0.336</td> <th>  Prob(JB):          </th> <td>   0.144</td>\n",
              "</tr>\n",
              "<tr>\n",
              "  <th>Kurtosis:</th>      <td> 4.188</td> <th>  Cond. No.          </th> <td>    4.72</td>\n",
              "</tr>\n",
              "</table><br/><br/>Warnings:<br/>[1] Standard Errors assume that the covariance matrix of the errors is correctly specified."
            ],
            "text/plain": [
              "<class 'statsmodels.iolib.summary.Summary'>\n",
              "\"\"\"\n",
              "                            OLS Regression Results                            \n",
              "==============================================================================\n",
              "Dep. Variable:                 Profit   R-squared:                       0.559\n",
              "Model:                            OLS   Adj. R-squared:                  0.550\n",
              "Method:                 Least Squares   F-statistic:                     60.88\n",
              "Date:                Mon, 30 Aug 2021   Prob (F-statistic):           4.38e-10\n",
              "Time:                        18:23:58   Log-Likelihood:                 24.181\n",
              "No. Observations:                  50   AIC:                            -44.36\n",
              "Df Residuals:                      48   BIC:                            -40.54\n",
              "Df Model:                           1                                         \n",
              "Covariance Type:            nonrobust                                         \n",
              "==============================================================================\n",
              "                 coef    std err          t      P>|t|      [0.025      0.975]\n",
              "------------------------------------------------------------------------------\n",
              "Intercept      0.2552      0.043      5.898      0.000       0.168       0.342\n",
              "MRKT_S         0.6548      0.084      7.803      0.000       0.486       0.824\n",
              "==============================================================================\n",
              "Omnibus:                        4.420   Durbin-Watson:                   1.178\n",
              "Prob(Omnibus):                  0.110   Jarque-Bera (JB):                3.882\n",
              "Skew:                          -0.336   Prob(JB):                        0.144\n",
              "Kurtosis:                       4.188   Cond. No.                         4.72\n",
              "==============================================================================\n",
              "\n",
              "Warnings:\n",
              "[1] Standard Errors assume that the covariance matrix of the errors is correctly specified.\n",
              "\"\"\""
            ]
          },
          "metadata": {},
          "execution_count": 58
        }
      ]
    },
    {
      "cell_type": "markdown",
      "metadata": {
        "id": "1OY3JvpObUxr"
      },
      "source": [
        "**MRKT_S is significant when taken independently**"
      ]
    },
    {
      "cell_type": "code",
      "metadata": {
        "id": "T1B-7O-UQlTm"
      },
      "source": [
        "mlr_AM = smf.ols('Profit~Admin_S+ MRKT_S', data=startup_df).fit()"
      ],
      "execution_count": 59,
      "outputs": []
    },
    {
      "cell_type": "code",
      "metadata": {
        "colab": {
          "base_uri": "https://localhost:8080/",
          "height": 465
        },
        "id": "d_sOmRV4QlV5",
        "outputId": "bd1fe29a-682e-4453-c7d8-489e5d58c267"
      },
      "source": [
        "mlr_AM.summary()"
      ],
      "execution_count": 60,
      "outputs": [
        {
          "output_type": "execute_result",
          "data": {
            "text/html": [
              "<table class=\"simpletable\">\n",
              "<caption>OLS Regression Results</caption>\n",
              "<tr>\n",
              "  <th>Dep. Variable:</th>         <td>Profit</td>      <th>  R-squared:         </th> <td>   0.610</td>\n",
              "</tr>\n",
              "<tr>\n",
              "  <th>Model:</th>                   <td>OLS</td>       <th>  Adj. R-squared:    </th> <td>   0.593</td>\n",
              "</tr>\n",
              "<tr>\n",
              "  <th>Method:</th>             <td>Least Squares</td>  <th>  F-statistic:       </th> <td>   36.71</td>\n",
              "</tr>\n",
              "<tr>\n",
              "  <th>Date:</th>             <td>Mon, 30 Aug 2021</td> <th>  Prob (F-statistic):</th> <td>2.50e-10</td>\n",
              "</tr>\n",
              "<tr>\n",
              "  <th>Time:</th>                 <td>18:24:56</td>     <th>  Log-Likelihood:    </th> <td>  27.227</td>\n",
              "</tr>\n",
              "<tr>\n",
              "  <th>No. Observations:</th>      <td>    50</td>      <th>  AIC:               </th> <td>  -48.45</td>\n",
              "</tr>\n",
              "<tr>\n",
              "  <th>Df Residuals:</th>          <td>    47</td>      <th>  BIC:               </th> <td>  -42.72</td>\n",
              "</tr>\n",
              "<tr>\n",
              "  <th>Df Model:</th>              <td>     2</td>      <th>                     </th>     <td> </td>   \n",
              "</tr>\n",
              "<tr>\n",
              "  <th>Covariance Type:</th>      <td>nonrobust</td>    <th>                     </th>     <td> </td>   \n",
              "</tr>\n",
              "</table>\n",
              "<table class=\"simpletable\">\n",
              "<tr>\n",
              "      <td></td>         <th>coef</th>     <th>std err</th>      <th>t</th>      <th>P>|t|</th>  <th>[0.025</th>    <th>0.975]</th>  \n",
              "</tr>\n",
              "<tr>\n",
              "  <th>Intercept</th> <td>    0.1247</td> <td>    0.067</td> <td>    1.861</td> <td> 0.069</td> <td>   -0.010</td> <td>    0.260</td>\n",
              "</tr>\n",
              "<tr>\n",
              "  <th>Admin_S</th>   <td>    0.2394</td> <td>    0.097</td> <td>    2.468</td> <td> 0.017</td> <td>    0.044</td> <td>    0.435</td>\n",
              "</tr>\n",
              "<tr>\n",
              "  <th>MRKT_S</th>    <td>    0.6611</td> <td>    0.080</td> <td>    8.281</td> <td> 0.000</td> <td>    0.501</td> <td>    0.822</td>\n",
              "</tr>\n",
              "</table>\n",
              "<table class=\"simpletable\">\n",
              "<tr>\n",
              "  <th>Omnibus:</th>       <td> 6.584</td> <th>  Durbin-Watson:     </th> <td>   1.279</td>\n",
              "</tr>\n",
              "<tr>\n",
              "  <th>Prob(Omnibus):</th> <td> 0.037</td> <th>  Jarque-Bera (JB):  </th> <td>   6.524</td>\n",
              "</tr>\n",
              "<tr>\n",
              "  <th>Skew:</th>          <td>-0.512</td> <th>  Prob(JB):          </th> <td>  0.0383</td>\n",
              "</tr>\n",
              "<tr>\n",
              "  <th>Kurtosis:</th>      <td> 4.443</td> <th>  Cond. No.          </th> <td>    6.87</td>\n",
              "</tr>\n",
              "</table><br/><br/>Warnings:<br/>[1] Standard Errors assume that the covariance matrix of the errors is correctly specified."
            ],
            "text/plain": [
              "<class 'statsmodels.iolib.summary.Summary'>\n",
              "\"\"\"\n",
              "                            OLS Regression Results                            \n",
              "==============================================================================\n",
              "Dep. Variable:                 Profit   R-squared:                       0.610\n",
              "Model:                            OLS   Adj. R-squared:                  0.593\n",
              "Method:                 Least Squares   F-statistic:                     36.71\n",
              "Date:                Mon, 30 Aug 2021   Prob (F-statistic):           2.50e-10\n",
              "Time:                        18:24:56   Log-Likelihood:                 27.227\n",
              "No. Observations:                  50   AIC:                            -48.45\n",
              "Df Residuals:                      47   BIC:                            -42.72\n",
              "Df Model:                           2                                         \n",
              "Covariance Type:            nonrobust                                         \n",
              "==============================================================================\n",
              "                 coef    std err          t      P>|t|      [0.025      0.975]\n",
              "------------------------------------------------------------------------------\n",
              "Intercept      0.1247      0.067      1.861      0.069      -0.010       0.260\n",
              "Admin_S        0.2394      0.097      2.468      0.017       0.044       0.435\n",
              "MRKT_S         0.6611      0.080      8.281      0.000       0.501       0.822\n",
              "==============================================================================\n",
              "Omnibus:                        6.584   Durbin-Watson:                   1.279\n",
              "Prob(Omnibus):                  0.037   Jarque-Bera (JB):                6.524\n",
              "Skew:                          -0.512   Prob(JB):                       0.0383\n",
              "Kurtosis:                       4.443   Cond. No.                         6.87\n",
              "==============================================================================\n",
              "\n",
              "Warnings:\n",
              "[1] Standard Errors assume that the covariance matrix of the errors is correctly specified.\n",
              "\"\"\""
            ]
          },
          "metadata": {},
          "execution_count": 60
        }
      ]
    },
    {
      "cell_type": "markdown",
      "metadata": {
        "id": "vLmIXPSacYre"
      },
      "source": [
        "# **Model Validation :-**\n",
        "1. Collinearty check\n",
        "2. Residual analysis"
      ]
    },
    {
      "cell_type": "markdown",
      "metadata": {
        "id": "fa39pupyVC72"
      },
      "source": [
        "# **1. Collinearty check**"
      ]
    },
    {
      "cell_type": "code",
      "metadata": {
        "id": "bKibf14QQlYW"
      },
      "source": [
        "# checking for VIF values"
      ],
      "execution_count": null,
      "outputs": []
    },
    {
      "cell_type": "code",
      "metadata": {
        "colab": {
          "base_uri": "https://localhost:8080/",
          "height": 142
        },
        "id": "E4eixs-zQla4",
        "outputId": "5f2a4fed-7e52-47b3-94e9-e12deb4e228b"
      },
      "source": [
        "rsq_r = smf.ols('RD_S~ Admin_S+MRKT_S', data=startup_df).fit().rsquared\n",
        "vif_r = 1/(1-rsq_r)\n",
        "\n",
        "rsq_a = smf.ols('Admin_S ~ RD_S+MRKT_S', data=startup_df).fit().rsquared\n",
        "vif_a = 1/(1-rsq_a)\n",
        "\n",
        "rsq_m = smf.ols('MRKT_S~ RD_S+Admin_S', data=startup_df).fit().rsquared\n",
        "vif_m = 1/(1-rsq_m)\n",
        "\n",
        "d1 = {'Varriables':['RD_S','Admin_S','MRKT_S'], 'Vif':[vif_r,vif_a,vif_m]}\n",
        "vif_df= pd.DataFrame(d1)\n",
        "vif_df"
      ],
      "execution_count": 62,
      "outputs": [
        {
          "output_type": "execute_result",
          "data": {
            "text/html": [
              "<div>\n",
              "<style scoped>\n",
              "    .dataframe tbody tr th:only-of-type {\n",
              "        vertical-align: middle;\n",
              "    }\n",
              "\n",
              "    .dataframe tbody tr th {\n",
              "        vertical-align: top;\n",
              "    }\n",
              "\n",
              "    .dataframe thead th {\n",
              "        text-align: right;\n",
              "    }\n",
              "</style>\n",
              "<table border=\"1\" class=\"dataframe\">\n",
              "  <thead>\n",
              "    <tr style=\"text-align: right;\">\n",
              "      <th></th>\n",
              "      <th>Varriables</th>\n",
              "      <th>Vif</th>\n",
              "    </tr>\n",
              "  </thead>\n",
              "  <tbody>\n",
              "    <tr>\n",
              "      <th>0</th>\n",
              "      <td>RD_S</td>\n",
              "      <td>2.468903</td>\n",
              "    </tr>\n",
              "    <tr>\n",
              "      <th>1</th>\n",
              "      <td>Admin_S</td>\n",
              "      <td>1.175091</td>\n",
              "    </tr>\n",
              "    <tr>\n",
              "      <th>2</th>\n",
              "      <td>MRKT_S</td>\n",
              "      <td>2.326773</td>\n",
              "    </tr>\n",
              "  </tbody>\n",
              "</table>\n",
              "</div>"
            ],
            "text/plain": [
              "  Varriables       Vif\n",
              "0       RD_S  2.468903\n",
              "1    Admin_S  1.175091\n",
              "2     MRKT_S  2.326773"
            ]
          },
          "metadata": {},
          "execution_count": 62
        }
      ]
    },
    {
      "cell_type": "markdown",
      "metadata": {
        "id": "S8ym2ywXgLgy"
      },
      "source": [
        "**All the variables have vif < 20, therfore no multicollinearty in variables.** **So we will consider all the variables in model building**"
      ]
    },
    {
      "cell_type": "markdown",
      "metadata": {
        "id": "QKW4jj-oU75V"
      },
      "source": [
        "# **2. Residual Analysis**"
      ]
    },
    {
      "cell_type": "markdown",
      "metadata": {
        "id": "XhLaIDWudrmT"
      },
      "source": [
        "**Q-Q plot**"
      ]
    },
    {
      "cell_type": "code",
      "metadata": {
        "colab": {
          "base_uri": "https://localhost:8080/",
          "height": 295
        },
        "id": "lz5ZNlu3QldV",
        "outputId": "8f2422e0-9df9-41ca-8c73-b9d84b52dc39"
      },
      "source": [
        "# Test for Normality of Residuals (Q-Q Plot) using residual model (model.resid)\n",
        "import statsmodels.api as sm\n",
        "sm.qqplot(model.resid,line='q')\n",
        "plt.title(\"Normal Q-Q plot of residuals\")\n",
        "plt.show()"
      ],
      "execution_count": 65,
      "outputs": [
        {
          "output_type": "display_data",
          "data": {
            "image/png": "[encoded data removed]",
            "text/plain": [
              "<Figure size 432x288 with 1 Axes>"
            ]
          },
          "metadata": {}
        }
      ]
    },
    {
      "cell_type": "code",
      "metadata": {
        "colab": {
          "base_uri": "https://localhost:8080/"
        },
        "id": "O3pczL2VQlfq",
        "outputId": "6d1bce17-e92d-4d0c-df83-27b289896e44"
      },
      "source": [
        "list(np.where(model.resid < -0.10))"
      ],
      "execution_count": 64,
      "outputs": [
        {
          "output_type": "execute_result",
          "data": {
            "text/plain": [
              "[array([49])]"
            ]
          },
          "metadata": {},
          "execution_count": 64
        }
      ]
    },
    {
      "cell_type": "markdown",
      "metadata": {
        "id": "su_lNXZniulg"
      },
      "source": [
        "**Residual plot for Homoscedasticity**"
      ]
    },
    {
      "cell_type": "code",
      "metadata": {
        "id": "E_uwZGyUQlh6"
      },
      "source": [
        "def get_standardized_values( vals ):\n",
        "    return (vals - vals.mean())/vals.std()  # z = (x-mu)/sigma"
      ],
      "execution_count": 66,
      "outputs": []
    },
    {
      "cell_type": "code",
      "metadata": {
        "colab": {
          "base_uri": "https://localhost:8080/",
          "height": 295
        },
        "id": "z35sE2arQlkE",
        "outputId": "81c6d0a0-a09a-4f20-9552-0452dd12b2d8"
      },
      "source": [
        "plt.scatter(get_standardized_values(model.fittedvalues),\n",
        "            get_standardized_values(model.resid))\n",
        "\n",
        "plt.title('Residual Plot')\n",
        "plt.xlabel('standarized fitted values')\n",
        "plt.ylabel('standarized residual values')\n",
        "plt.show()\n"
      ],
      "execution_count": 67,
      "outputs": [
        {
          "output_type": "display_data",
          "data": {
            "image/png": "[encoded data removed]",
            "text/plain": [
              "<Figure size 432x288 with 1 Axes>"
            ]
          },
          "metadata": {}
        }
      ]
    },
    {
      "cell_type": "markdown",
      "metadata": {
        "id": "UricB_FmkoTW"
      },
      "source": [
        "# Test of errors (Residual Vs Regressor)"
      ]
    },
    {
      "cell_type": "markdown",
      "metadata": {
        "id": "OIgLKd64lLqM"
      },
      "source": [
        "Test for errors or Residuals **Vs** Regressors or independent variables or predictors \n",
        "\n",
        "using Residual Regression Plots code graphics.plot_regress_exog(model,'x',fig)  \n",
        "\n",
        "exog = x-variable & endog = y-variable"
      ]
    },
    {
      "cell_type": "code",
      "metadata": {
        "colab": {
          "base_uri": "https://localhost:8080/",
          "height": 585
        },
        "id": "o4uDuTePQlmg",
        "outputId": "7e5480c6-0a32-446e-84c0-4243fb608c70"
      },
      "source": [
        "fig = plt.figure(figsize=(15,8))\n",
        "sm.graphics.plot_regress_exog(model,'RD_S', fig=fig )\n",
        "plt.show()"
      ],
      "execution_count": 68,
      "outputs": [
        {
          "output_type": "display_data",
          "data": {
            "image/png": "[encoded data removed]",
            "text/plain": [
              "<Figure size 1080x576 with 4 Axes>"
            ]
          },
          "metadata": {}
        }
      ]
    },
    {
      "cell_type": "code",
      "metadata": {
        "colab": {
          "base_uri": "https://localhost:8080/",
          "height": 585
        },
        "id": "8MThjIWoQlpy",
        "outputId": "3c670503-f782-44aa-c129-21e5bb0746de"
      },
      "source": [
        "fig = plt.figure(figsize=(15,8))\n",
        "sm.graphics.plot_regress_exog(model,'Admin_S', fig=fig )\n",
        "plt.show()"
      ],
      "execution_count": 69,
      "outputs": [
        {
          "output_type": "display_data",
          "data": {
            "image/png": "[encoded data removed]",
            "text/plain": [
              "<Figure size 1080x576 with 4 Axes>"
            ]
          },
          "metadata": {}
        }
      ]
    },
    {
      "cell_type": "code",
      "metadata": {
        "colab": {
          "base_uri": "https://localhost:8080/",
          "height": 585
        },
        "id": "g2wo88gqnQdk",
        "outputId": "233d7012-f566-4859-f549-be70b18740ae"
      },
      "source": [
        "fig = plt.figure(figsize=(15,8))\n",
        "sm.graphics.plot_regress_exog(model,'MRKT_S', fig=fig )\n",
        "plt.show()"
      ],
      "execution_count": 70,
      "outputs": [
        {
          "output_type": "display_data",
          "data": {
            "image/png": "[encoded data removed]",
            "text/plain": [
              "<Figure size 1080x576 with 4 Axes>"
            ]
          },
          "metadata": {}
        }
      ]
    },
    {
      "cell_type": "code",
      "metadata": {
        "id": "0GmuGIk4nQqp"
      },
      "source": [
        ""
      ],
      "execution_count": null,
      "outputs": []
    },
    {
      "cell_type": "markdown",
      "metadata": {
        "id": "6UbM3uZ2ZH2f"
      },
      "source": [
        "# **Model Deletion Diagnostics**"
      ]
    },
    {
      "cell_type": "markdown",
      "metadata": {
        "id": "sZ0k3C8uZH2g"
      },
      "source": [
        "## Detecting Influencers/Outliers"
      ]
    },
    {
      "cell_type": "markdown",
      "metadata": {
        "id": "diBkYD8QZH2g"
      },
      "source": [
        "**Cook’s Distance**"
      ]
    },
    {
      "cell_type": "code",
      "metadata": {
        "colab": {
          "base_uri": "https://localhost:8080/"
        },
        "id": "SE4mkYRz26VA",
        "outputId": "8474f722-bff6-4903-8ef0-37beaea6fbe1"
      },
      "source": [
        "(c, _)= model.get_influence().cooks_distance\n",
        "c"
      ],
      "execution_count": 71,
      "outputs": [
        {
          "output_type": "execute_result",
          "data": {
            "text/plain": [
              "array([3.21825244e-05, 3.27591036e-03, 3.23842699e-02, 2.17206555e-02,\n",
              "       1.44833032e-02, 1.17158463e-02, 2.91766303e-03, 3.56513444e-03,\n",
              "       4.04303948e-05, 4.86758017e-03, 1.51064757e-02, 1.63564959e-02,\n",
              "       1.15516625e-02, 4.01422811e-03, 6.12934253e-02, 3.40013448e-02,\n",
              "       8.33556413e-03, 3.30534399e-03, 2.16819303e-03, 4.07440577e-02,\n",
              "       4.25137222e-04, 1.09844352e-02, 2.91768000e-03, 2.76030254e-04,\n",
              "       5.04643588e-03, 3.00074623e-03, 3.41957068e-03, 2.98396413e-02,\n",
              "       1.31590664e-03, 1.25992620e-04, 4.18505125e-05, 9.27434786e-06,\n",
              "       7.08656521e-04, 1.28122674e-04, 2.09815032e-02, 6.69508674e-03,\n",
              "       5.55314705e-02, 6.55050578e-05, 5.61547311e-02, 1.54279607e-03,\n",
              "       1.84850929e-03, 1.97578066e-03, 1.36089280e-04, 2.05553171e-02,\n",
              "       1.23156041e-04, 9.03234206e-02, 5.45303387e-02, 5.33885616e-03,\n",
              "       1.90527441e-01, 2.88082293e-01])"
            ]
          },
          "metadata": {},
          "execution_count": 71
        }
      ]
    },
    {
      "cell_type": "code",
      "metadata": {
        "colab": {
          "base_uri": "https://localhost:8080/",
          "height": 498
        },
        "id": "Rw-HYpL23UZ1",
        "outputId": "14ddc188-28f9-4833-b75e-fdc31f9e958e"
      },
      "source": [
        "#Plot the influencer values using stem plot\n",
        "fig = plt.subplots(figsize=(20, 7))\n",
        "plt.stem(np.arange(len(startup_df)), np.round(c,3))\n",
        "plt.xlabel('Row index')\n",
        "plt.ylabel('Cooks distance')\n",
        "plt.show()"
      ],
      "execution_count": 72,
      "outputs": [
        {
          "output_type": "stream",
          "name": "stderr",
          "text": [
            "/usr/local/lib/python3.7/dist-packages/ipykernel_launcher.py:3: UserWarning: In Matplotlib 3.3 individual lines on a stem plot will be added as a LineCollection instead of individual lines. This significantly improves the performance of a stem plot. To remove this warning and switch to the new behaviour, set the \"use_line_collection\" keyword argument to True.\n",
            "  This is separate from the ipykernel package so we can avoid doing imports until\n"
          ]
        },
        {
          "output_type": "display_data",
          "data": {
            "image/png": "[encoded data removed]",
            "text/plain": [
              "<Figure size 1440x504 with 1 Axes>"
            ]
          },
          "metadata": {}
        }
      ]
    },
    {
      "cell_type": "code",
      "metadata": {
        "colab": {
          "base_uri": "https://localhost:8080/"
        },
        "id": "M7SfXdwInmV9",
        "outputId": "22ec75f6-9148-4dce-d503-673d8a020520"
      },
      "source": [
        "np.argmax(c), np.max(c)"
      ],
      "execution_count": 73,
      "outputs": [
        {
          "output_type": "execute_result",
          "data": {
            "text/plain": [
              "(49, 0.2880822927543274)"
            ]
          },
          "metadata": {},
          "execution_count": 73
        }
      ]
    },
    {
      "cell_type": "code",
      "metadata": {
        "colab": {
          "base_uri": "https://localhost:8080/",
          "height": 900
        },
        "id": "61xiPZU1nmYb",
        "outputId": "375ce931-174e-411d-93d0-11ad93261701"
      },
      "source": [
        "fig,ax = plt.subplots(figsize=(15, 15))\n",
        "influence_plot(model, ax=ax)\n",
        "plt.show()"
      ],
      "execution_count": 74,
      "outputs": [
        {
          "output_type": "display_data",
          "data": {
            "image/png": "[encoded data removed]",
            "text/plain": [
              "<Figure size 1080x1080 with 1 Axes>"
            ]
          },
          "metadata": {}
        }
      ]
    },
    {
      "cell_type": "code",
      "metadata": {
        "colab": {
          "base_uri": "https://localhost:8080/"
        },
        "id": "TLXZBzlcnma-",
        "outputId": "75ed0568-fe31-4378-a6f1-6b71d6c504d4"
      },
      "source": [
        "k = startup_df.shape[1] # K is no. of columns\n",
        "\n",
        "n = startup_df.shape[0] # n is no. of rows\n",
        "print('no. of columns=',k,\"\\n\",'no. of rows=', n)\n",
        "\n",
        "# leverage cutoff value\n",
        "leverage_cutoff = 3*((k + 1)/n)\n",
        "print('leverage cutoff =',leverage_cutoff) "
      ],
      "execution_count": 79,
      "outputs": [
        {
          "output_type": "stream",
          "name": "stdout",
          "text": [
            "no. of columns= 4 \n",
            " no. of rows= 50\n",
            "leverage cutoff = 0.30000000000000004\n"
          ]
        }
      ]
    },
    {
      "cell_type": "code",
      "metadata": {
        "colab": {
          "base_uri": "https://localhost:8080/",
          "height": 80
        },
        "id": "7UiFRWqfnmfM",
        "outputId": "d02148b1-1a7a-4a43-f71f-b9f2f181acd3"
      },
      "source": [
        "startup_df[startup_df.index.isin([49])]"
      ],
      "execution_count": 82,
      "outputs": [
        {
          "output_type": "execute_result",
          "data": {
            "text/html": [
              "<div>\n",
              "<style scoped>\n",
              "    .dataframe tbody tr th:only-of-type {\n",
              "        vertical-align: middle;\n",
              "    }\n",
              "\n",
              "    .dataframe tbody tr th {\n",
              "        vertical-align: top;\n",
              "    }\n",
              "\n",
              "    .dataframe thead th {\n",
              "        text-align: right;\n",
              "    }\n",
              "</style>\n",
              "<table border=\"1\" class=\"dataframe\">\n",
              "  <thead>\n",
              "    <tr style=\"text-align: right;\">\n",
              "      <th></th>\n",
              "      <th>RD_S</th>\n",
              "      <th>Admin_S</th>\n",
              "      <th>MRKT_S</th>\n",
              "      <th>Profit</th>\n",
              "    </tr>\n",
              "  </thead>\n",
              "  <tbody>\n",
              "    <tr>\n",
              "      <th>49</th>\n",
              "      <td>0.0</td>\n",
              "      <td>0.500148</td>\n",
              "      <td>0.095749</td>\n",
              "      <td>0.0</td>\n",
              "    </tr>\n",
              "  </tbody>\n",
              "</table>\n",
              "</div>"
            ],
            "text/plain": [
              "    RD_S   Admin_S    MRKT_S  Profit\n",
              "49   0.0  0.500148  0.095749     0.0"
            ]
          },
          "metadata": {},
          "execution_count": 82
        }
      ]
    },
    {
      "cell_type": "code",
      "metadata": {
        "colab": {
          "base_uri": "https://localhost:8080/",
          "height": 1000
        },
        "id": "PL1UVKXN-Hvq",
        "outputId": "e6ae0bde-5b11-47c0-aa30-7c7539284887"
      },
      "source": [
        "# Significant differences in value of RD_S & Profit in 49th record\n",
        "startup_df"
      ],
      "execution_count": 84,
      "outputs": [
        {
          "output_type": "execute_result",
          "data": {
            "text/html": [
              "<div>\n",
              "<style scoped>\n",
              "    .dataframe tbody tr th:only-of-type {\n",
              "        vertical-align: middle;\n",
              "    }\n",
              "\n",
              "    .dataframe tbody tr th {\n",
              "        vertical-align: top;\n",
              "    }\n",
              "\n",
              "    .dataframe thead th {\n",
              "        text-align: right;\n",
              "    }\n",
              "</style>\n",
              "<table border=\"1\" class=\"dataframe\">\n",
              "  <thead>\n",
              "    <tr style=\"text-align: right;\">\n",
              "      <th></th>\n",
              "      <th>RD_S</th>\n",
              "      <th>Admin_S</th>\n",
              "      <th>MRKT_S</th>\n",
              "      <th>Profit</th>\n",
              "    </tr>\n",
              "  </thead>\n",
              "  <tbody>\n",
              "    <tr>\n",
              "      <th>0</th>\n",
              "      <td>1.000000</td>\n",
              "      <td>0.651744</td>\n",
              "      <td>1.000000</td>\n",
              "      <td>1.000000</td>\n",
              "    </tr>\n",
              "    <tr>\n",
              "      <th>1</th>\n",
              "      <td>0.983359</td>\n",
              "      <td>0.761972</td>\n",
              "      <td>0.940893</td>\n",
              "      <td>0.997355</td>\n",
              "    </tr>\n",
              "    <tr>\n",
              "      <th>2</th>\n",
              "      <td>0.927985</td>\n",
              "      <td>0.379579</td>\n",
              "      <td>0.864664</td>\n",
              "      <td>0.993178</td>\n",
              "    </tr>\n",
              "    <tr>\n",
              "      <th>3</th>\n",
              "      <td>0.873136</td>\n",
              "      <td>0.512998</td>\n",
              "      <td>0.812235</td>\n",
              "      <td>0.947292</td>\n",
              "    </tr>\n",
              "    <tr>\n",
              "      <th>4</th>\n",
              "      <td>0.859438</td>\n",
              "      <td>0.305328</td>\n",
              "      <td>0.776136</td>\n",
              "      <td>0.853171</td>\n",
              "    </tr>\n",
              "    <tr>\n",
              "      <th>5</th>\n",
              "      <td>0.797566</td>\n",
              "      <td>0.369448</td>\n",
              "      <td>0.769126</td>\n",
              "      <td>0.801382</td>\n",
              "    </tr>\n",
              "    <tr>\n",
              "      <th>6</th>\n",
              "      <td>0.814128</td>\n",
              "      <td>0.730161</td>\n",
              "      <td>0.270710</td>\n",
              "      <td>0.796490</td>\n",
              "    </tr>\n",
              "    <tr>\n",
              "      <th>7</th>\n",
              "      <td>0.788018</td>\n",
              "      <td>0.717457</td>\n",
              "      <td>0.686493</td>\n",
              "      <td>0.794407</td>\n",
              "    </tr>\n",
              "    <tr>\n",
              "      <th>8</th>\n",
              "      <td>0.729018</td>\n",
              "      <td>0.741733</td>\n",
              "      <td>0.660500</td>\n",
              "      <td>0.774468</td>\n",
              "    </tr>\n",
              "    <tr>\n",
              "      <th>9</th>\n",
              "      <td>0.745906</td>\n",
              "      <td>0.436929</td>\n",
              "      <td>0.646443</td>\n",
              "      <td>0.760661</td>\n",
              "    </tr>\n",
              "    <tr>\n",
              "      <th>10</th>\n",
              "      <td>0.616351</td>\n",
              "      <td>0.451506</td>\n",
              "      <td>0.485733</td>\n",
              "      <td>0.740175</td>\n",
              "    </tr>\n",
              "    <tr>\n",
              "      <th>11</th>\n",
              "      <td>0.608845</td>\n",
              "      <td>0.308364</td>\n",
              "      <td>0.529362</td>\n",
              "      <td>0.729686</td>\n",
              "    </tr>\n",
              "    <tr>\n",
              "      <th>12</th>\n",
              "      <td>0.567670</td>\n",
              "      <td>0.578836</td>\n",
              "      <td>0.529563</td>\n",
              "      <td>0.714629</td>\n",
              "    </tr>\n",
              "    <tr>\n",
              "      <th>13</th>\n",
              "      <td>0.556352</td>\n",
              "      <td>0.641066</td>\n",
              "      <td>0.535552</td>\n",
              "      <td>0.673644</td>\n",
              "    </tr>\n",
              "    <tr>\n",
              "      <th>14</th>\n",
              "      <td>0.725394</td>\n",
              "      <td>0.801327</td>\n",
              "      <td>0.543708</td>\n",
              "      <td>0.664044</td>\n",
              "    </tr>\n",
              "    <tr>\n",
              "      <th>15</th>\n",
              "      <td>0.692617</td>\n",
              "      <td>0.543030</td>\n",
              "      <td>0.554864</td>\n",
              "      <td>0.648921</td>\n",
              "    </tr>\n",
              "    <tr>\n",
              "      <th>16</th>\n",
              "      <td>0.471808</td>\n",
              "      <td>0.535270</td>\n",
              "      <td>0.560312</td>\n",
              "      <td>0.632454</td>\n",
              "    </tr>\n",
              "    <tr>\n",
              "      <th>17</th>\n",
              "      <td>0.572468</td>\n",
              "      <td>0.714013</td>\n",
              "      <td>0.598948</td>\n",
              "      <td>0.623317</td>\n",
              "    </tr>\n",
              "    <tr>\n",
              "      <th>18</th>\n",
              "      <td>0.554881</td>\n",
              "      <td>0.478772</td>\n",
              "      <td>0.625116</td>\n",
              "      <td>0.617103</td>\n",
              "    </tr>\n",
              "    <tr>\n",
              "      <th>19</th>\n",
              "      <td>0.522650</td>\n",
              "      <td>0.778236</td>\n",
              "      <td>0.000000</td>\n",
              "      <td>0.608713</td>\n",
              "    </tr>\n",
              "    <tr>\n",
              "      <th>20</th>\n",
              "      <td>0.461169</td>\n",
              "      <td>0.476424</td>\n",
              "      <td>0.633053</td>\n",
              "      <td>0.584482</td>\n",
              "    </tr>\n",
              "    <tr>\n",
              "      <th>21</th>\n",
              "      <td>0.474084</td>\n",
              "      <td>0.780210</td>\n",
              "      <td>0.635327</td>\n",
              "      <td>0.544157</td>\n",
              "    </tr>\n",
              "    <tr>\n",
              "      <th>22</th>\n",
              "      <td>0.447505</td>\n",
              "      <td>0.544293</td>\n",
              "      <td>0.642920</td>\n",
              "      <td>0.538747</td>\n",
              "    </tr>\n",
              "    <tr>\n",
              "      <th>23</th>\n",
              "      <td>0.408424</td>\n",
              "      <td>0.414638</td>\n",
              "      <td>0.645992</td>\n",
              "      <td>0.529634</td>\n",
              "    </tr>\n",
              "    <tr>\n",
              "      <th>24</th>\n",
              "      <td>0.465947</td>\n",
              "      <td>0.365388</td>\n",
              "      <td>0.297964</td>\n",
              "      <td>0.528609</td>\n",
              "    </tr>\n",
              "    <tr>\n",
              "      <th>25</th>\n",
              "      <td>0.391080</td>\n",
              "      <td>0.671958</td>\n",
              "      <td>0.292427</td>\n",
              "      <td>0.522146</td>\n",
              "    </tr>\n",
              "    <tr>\n",
              "      <th>26</th>\n",
              "      <td>0.455574</td>\n",
              "      <td>0.706845</td>\n",
              "      <td>0.284134</td>\n",
              "      <td>0.512737</td>\n",
              "    </tr>\n",
              "    <tr>\n",
              "      <th>27</th>\n",
              "      <td>0.436093</td>\n",
              "      <td>0.582978</td>\n",
              "      <td>0.748613</td>\n",
              "      <td>0.508654</td>\n",
              "    </tr>\n",
              "    <tr>\n",
              "      <th>28</th>\n",
              "      <td>0.399467</td>\n",
              "      <td>1.000000</td>\n",
              "      <td>0.250429</td>\n",
              "      <td>0.498934</td>\n",
              "    </tr>\n",
              "    <tr>\n",
              "      <th>29</th>\n",
              "      <td>0.396769</td>\n",
              "      <td>0.774566</td>\n",
              "      <td>0.227092</td>\n",
              "      <td>0.486108</td>\n",
              "    </tr>\n",
              "    <tr>\n",
              "      <th>30</th>\n",
              "      <td>0.374931</td>\n",
              "      <td>0.489928</td>\n",
              "      <td>0.193163</td>\n",
              "      <td>0.480099</td>\n",
              "    </tr>\n",
              "    <tr>\n",
              "      <th>31</th>\n",
              "      <td>0.369741</td>\n",
              "      <td>0.772053</td>\n",
              "      <td>0.186989</td>\n",
              "      <td>0.466280</td>\n",
              "    </tr>\n",
              "    <tr>\n",
              "      <th>32</th>\n",
              "      <td>0.383485</td>\n",
              "      <td>0.593294</td>\n",
              "      <td>0.097683</td>\n",
              "      <td>0.465966</td>\n",
              "    </tr>\n",
              "    <tr>\n",
              "      <th>33</th>\n",
              "      <td>0.335617</td>\n",
              "      <td>0.394134</td>\n",
              "      <td>0.454943</td>\n",
              "      <td>0.462312</td>\n",
              "    </tr>\n",
              "    <tr>\n",
              "      <th>34</th>\n",
              "      <td>0.280776</td>\n",
              "      <td>0.810055</td>\n",
              "      <td>0.446810</td>\n",
              "      <td>0.461939</td>\n",
              "    </tr>\n",
              "    <tr>\n",
              "      <th>35</th>\n",
              "      <td>0.278284</td>\n",
              "      <td>0.257032</td>\n",
              "      <td>0.435618</td>\n",
              "      <td>0.460626</td>\n",
              "    </tr>\n",
              "    <tr>\n",
              "      <th>36</th>\n",
              "      <td>0.173353</td>\n",
              "      <td>0.576825</td>\n",
              "      <td>0.426311</td>\n",
              "      <td>0.428126</td>\n",
              "    </tr>\n",
              "    <tr>\n",
              "      <th>37</th>\n",
              "      <td>0.266527</td>\n",
              "      <td>0.000000</td>\n",
              "      <td>0.417626</td>\n",
              "      <td>0.423852</td>\n",
              "    </tr>\n",
              "    <tr>\n",
              "      <th>38</th>\n",
              "      <td>0.122345</td>\n",
              "      <td>0.111636</td>\n",
              "      <td>0.392690</td>\n",
              "      <td>0.374747</td>\n",
              "    </tr>\n",
              "    <tr>\n",
              "      <th>39</th>\n",
              "      <td>0.233194</td>\n",
              "      <td>0.241309</td>\n",
              "      <td>0.370931</td>\n",
              "      <td>0.373489</td>\n",
              "    </tr>\n",
              "    <tr>\n",
              "      <th>40</th>\n",
              "      <td>0.173901</td>\n",
              "      <td>0.512041</td>\n",
              "      <td>0.366260</td>\n",
              "      <td>0.357914</td>\n",
              "    </tr>\n",
              "    <tr>\n",
              "      <th>41</th>\n",
              "      <td>0.168691</td>\n",
              "      <td>0.254469</td>\n",
              "      <td>0.348614</td>\n",
              "      <td>0.355430</td>\n",
              "    </tr>\n",
              "    <tr>\n",
              "      <th>42</th>\n",
              "      <td>0.142976</td>\n",
              "      <td>0.341852</td>\n",
              "      <td>0.313705</td>\n",
              "      <td>0.319951</td>\n",
              "    </tr>\n",
              "    <tr>\n",
              "      <th>43</th>\n",
              "      <td>0.093776</td>\n",
              "      <td>0.579307</td>\n",
              "      <td>0.075319</td>\n",
              "      <td>0.310156</td>\n",
              "    </tr>\n",
              "    <tr>\n",
              "      <th>44</th>\n",
              "      <td>0.134127</td>\n",
              "      <td>0.788072</td>\n",
              "      <td>0.060059</td>\n",
              "      <td>0.284485</td>\n",
              "    </tr>\n",
              "    <tr>\n",
              "      <th>45</th>\n",
              "      <td>0.006049</td>\n",
              "      <td>0.554724</td>\n",
              "      <td>0.004036</td>\n",
              "      <td>0.282940</td>\n",
              "    </tr>\n",
              "    <tr>\n",
              "      <th>46</th>\n",
              "      <td>0.007956</td>\n",
              "      <td>0.491260</td>\n",
              "      <td>0.629768</td>\n",
              "      <td>0.196020</td>\n",
              "    </tr>\n",
              "    <tr>\n",
              "      <th>47</th>\n",
              "      <td>0.000000</td>\n",
              "      <td>0.640547</td>\n",
              "      <td>0.000000</td>\n",
              "      <td>0.156990</td>\n",
              "    </tr>\n",
              "    <tr>\n",
              "      <th>48</th>\n",
              "      <td>0.003278</td>\n",
              "      <td>0.003502</td>\n",
              "      <td>0.000000</td>\n",
              "      <td>0.118211</td>\n",
              "    </tr>\n",
              "    <tr>\n",
              "      <th>49</th>\n",
              "      <td>0.000000</td>\n",
              "      <td>0.500148</td>\n",
              "      <td>0.095749</td>\n",
              "      <td>0.000000</td>\n",
              "    </tr>\n",
              "  </tbody>\n",
              "</table>\n",
              "</div>"
            ],
            "text/plain": [
              "        RD_S   Admin_S    MRKT_S    Profit\n",
              "0   1.000000  0.651744  1.000000  1.000000\n",
              "1   0.983359  0.761972  0.940893  0.997355\n",
              "2   0.927985  0.379579  0.864664  0.993178\n",
              "3   0.873136  0.512998  0.812235  0.947292\n",
              "4   0.859438  0.305328  0.776136  0.853171\n",
              "5   0.797566  0.369448  0.769126  0.801382\n",
              "6   0.814128  0.730161  0.270710  0.796490\n",
              "7   0.788018  0.717457  0.686493  0.794407\n",
              "8   0.729018  0.741733  0.660500  0.774468\n",
              "9   0.745906  0.436929  0.646443  0.760661\n",
              "10  0.616351  0.451506  0.485733  0.740175\n",
              "11  0.608845  0.308364  0.529362  0.729686\n",
              "12  0.567670  0.578836  0.529563  0.714629\n",
              "13  0.556352  0.641066  0.535552  0.673644\n",
              "14  0.725394  0.801327  0.543708  0.664044\n",
              "15  0.692617  0.543030  0.554864  0.648921\n",
              "16  0.471808  0.535270  0.560312  0.632454\n",
              "17  0.572468  0.714013  0.598948  0.623317\n",
              "18  0.554881  0.478772  0.625116  0.617103\n",
              "19  0.522650  0.778236  0.000000  0.608713\n",
              "20  0.461169  0.476424  0.633053  0.584482\n",
              "21  0.474084  0.780210  0.635327  0.544157\n",
              "22  0.447505  0.544293  0.642920  0.538747\n",
              "23  0.408424  0.414638  0.645992  0.529634\n",
              "24  0.465947  0.365388  0.297964  0.528609\n",
              "25  0.391080  0.671958  0.292427  0.522146\n",
              "26  0.455574  0.706845  0.284134  0.512737\n",
              "27  0.436093  0.582978  0.748613  0.508654\n",
              "28  0.399467  1.000000  0.250429  0.498934\n",
              "29  0.396769  0.774566  0.227092  0.486108\n",
              "30  0.374931  0.489928  0.193163  0.480099\n",
              "31  0.369741  0.772053  0.186989  0.466280\n",
              "32  0.383485  0.593294  0.097683  0.465966\n",
              "33  0.335617  0.394134  0.454943  0.462312\n",
              "34  0.280776  0.810055  0.446810  0.461939\n",
              "35  0.278284  0.257032  0.435618  0.460626\n",
              "36  0.173353  0.576825  0.426311  0.428126\n",
              "37  0.266527  0.000000  0.417626  0.423852\n",
              "38  0.122345  0.111636  0.392690  0.374747\n",
              "39  0.233194  0.241309  0.370931  0.373489\n",
              "40  0.173901  0.512041  0.366260  0.357914\n",
              "41  0.168691  0.254469  0.348614  0.355430\n",
              "42  0.142976  0.341852  0.313705  0.319951\n",
              "43  0.093776  0.579307  0.075319  0.310156\n",
              "44  0.134127  0.788072  0.060059  0.284485\n",
              "45  0.006049  0.554724  0.004036  0.282940\n",
              "46  0.007956  0.491260  0.629768  0.196020\n",
              "47  0.000000  0.640547  0.000000  0.156990\n",
              "48  0.003278  0.003502  0.000000  0.118211\n",
              "49  0.000000  0.500148  0.095749  0.000000"
            ]
          },
          "metadata": {},
          "execution_count": 84
        }
      ]
    },
    {
      "cell_type": "code",
      "metadata": {
        "colab": {
          "base_uri": "https://localhost:8080/"
        },
        "id": "Ny7HFsE6_bJU",
        "outputId": "5ba98bf2-2146-49a1-dc22-7e411ab53bf3"
      },
      "source": [
        "startup_df.shape"
      ],
      "execution_count": 85,
      "outputs": [
        {
          "output_type": "execute_result",
          "data": {
            "text/plain": [
              "(50, 4)"
            ]
          },
          "metadata": {},
          "execution_count": 85
        }
      ]
    },
    {
      "cell_type": "code",
      "metadata": {
        "id": "VvAMOQ08-HyI"
      },
      "source": [
        "# Significant difference in value of 49th record, so it is a outlier, droping it\n",
        "startup_new = startup_df\n",
        "startup_new = startup_new.drop(startup_new.index[[49]],axis=0)"
      ],
      "execution_count": 86,
      "outputs": []
    },
    {
      "cell_type": "code",
      "metadata": {
        "colab": {
          "base_uri": "https://localhost:8080/"
        },
        "id": "8WmWLcsP-H0Y",
        "outputId": "2a1297c4-66de-4458-868f-a18b9bcf9969"
      },
      "source": [
        "startup_new.shape"
      ],
      "execution_count": 87,
      "outputs": [
        {
          "output_type": "execute_result",
          "data": {
            "text/plain": [
              "(49, 4)"
            ]
          },
          "metadata": {},
          "execution_count": 87
        }
      ]
    },
    {
      "cell_type": "code",
      "metadata": {
        "colab": {
          "base_uri": "https://localhost:8080/",
          "height": 1000
        },
        "id": "MSPEXfgg_klJ",
        "outputId": "4c2e11ae-8327-463b-97a6-377b0fe6ae2b"
      },
      "source": [
        "startup_new"
      ],
      "execution_count": 88,
      "outputs": [
        {
          "output_type": "execute_result",
          "data": {
            "text/html": [
              "<div>\n",
              "<style scoped>\n",
              "    .dataframe tbody tr th:only-of-type {\n",
              "        vertical-align: middle;\n",
              "    }\n",
              "\n",
              "    .dataframe tbody tr th {\n",
              "        vertical-align: top;\n",
              "    }\n",
              "\n",
              "    .dataframe thead th {\n",
              "        text-align: right;\n",
              "    }\n",
              "</style>\n",
              "<table border=\"1\" class=\"dataframe\">\n",
              "  <thead>\n",
              "    <tr style=\"text-align: right;\">\n",
              "      <th></th>\n",
              "      <th>RD_S</th>\n",
              "      <th>Admin_S</th>\n",
              "      <th>MRKT_S</th>\n",
              "      <th>Profit</th>\n",
              "    </tr>\n",
              "  </thead>\n",
              "  <tbody>\n",
              "    <tr>\n",
              "      <th>0</th>\n",
              "      <td>1.000000</td>\n",
              "      <td>0.651744</td>\n",
              "      <td>1.000000</td>\n",
              "      <td>1.000000</td>\n",
              "    </tr>\n",
              "    <tr>\n",
              "      <th>1</th>\n",
              "      <td>0.983359</td>\n",
              "      <td>0.761972</td>\n",
              "      <td>0.940893</td>\n",
              "      <td>0.997355</td>\n",
              "    </tr>\n",
              "    <tr>\n",
              "      <th>2</th>\n",
              "      <td>0.927985</td>\n",
              "      <td>0.379579</td>\n",
              "      <td>0.864664</td>\n",
              "      <td>0.993178</td>\n",
              "    </tr>\n",
              "    <tr>\n",
              "      <th>3</th>\n",
              "      <td>0.873136</td>\n",
              "      <td>0.512998</td>\n",
              "      <td>0.812235</td>\n",
              "      <td>0.947292</td>\n",
              "    </tr>\n",
              "    <tr>\n",
              "      <th>4</th>\n",
              "      <td>0.859438</td>\n",
              "      <td>0.305328</td>\n",
              "      <td>0.776136</td>\n",
              "      <td>0.853171</td>\n",
              "    </tr>\n",
              "    <tr>\n",
              "      <th>5</th>\n",
              "      <td>0.797566</td>\n",
              "      <td>0.369448</td>\n",
              "      <td>0.769126</td>\n",
              "      <td>0.801382</td>\n",
              "    </tr>\n",
              "    <tr>\n",
              "      <th>6</th>\n",
              "      <td>0.814128</td>\n",
              "      <td>0.730161</td>\n",
              "      <td>0.270710</td>\n",
              "      <td>0.796490</td>\n",
              "    </tr>\n",
              "    <tr>\n",
              "      <th>7</th>\n",
              "      <td>0.788018</td>\n",
              "      <td>0.717457</td>\n",
              "      <td>0.686493</td>\n",
              "      <td>0.794407</td>\n",
              "    </tr>\n",
              "    <tr>\n",
              "      <th>8</th>\n",
              "      <td>0.729018</td>\n",
              "      <td>0.741733</td>\n",
              "      <td>0.660500</td>\n",
              "      <td>0.774468</td>\n",
              "    </tr>\n",
              "    <tr>\n",
              "      <th>9</th>\n",
              "      <td>0.745906</td>\n",
              "      <td>0.436929</td>\n",
              "      <td>0.646443</td>\n",
              "      <td>0.760661</td>\n",
              "    </tr>\n",
              "    <tr>\n",
              "      <th>10</th>\n",
              "      <td>0.616351</td>\n",
              "      <td>0.451506</td>\n",
              "      <td>0.485733</td>\n",
              "      <td>0.740175</td>\n",
              "    </tr>\n",
              "    <tr>\n",
              "      <th>11</th>\n",
              "      <td>0.608845</td>\n",
              "      <td>0.308364</td>\n",
              "      <td>0.529362</td>\n",
              "      <td>0.729686</td>\n",
              "    </tr>\n",
              "    <tr>\n",
              "      <th>12</th>\n",
              "      <td>0.567670</td>\n",
              "      <td>0.578836</td>\n",
              "      <td>0.529563</td>\n",
              "      <td>0.714629</td>\n",
              "    </tr>\n",
              "    <tr>\n",
              "      <th>13</th>\n",
              "      <td>0.556352</td>\n",
              "      <td>0.641066</td>\n",
              "      <td>0.535552</td>\n",
              "      <td>0.673644</td>\n",
              "    </tr>\n",
              "    <tr>\n",
              "      <th>14</th>\n",
              "      <td>0.725394</td>\n",
              "      <td>0.801327</td>\n",
              "      <td>0.543708</td>\n",
              "      <td>0.664044</td>\n",
              "    </tr>\n",
              "    <tr>\n",
              "      <th>15</th>\n",
              "      <td>0.692617</td>\n",
              "      <td>0.543030</td>\n",
              "      <td>0.554864</td>\n",
              "      <td>0.648921</td>\n",
              "    </tr>\n",
              "    <tr>\n",
              "      <th>16</th>\n",
              "      <td>0.471808</td>\n",
              "      <td>0.535270</td>\n",
              "      <td>0.560312</td>\n",
              "      <td>0.632454</td>\n",
              "    </tr>\n",
              "    <tr>\n",
              "      <th>17</th>\n",
              "      <td>0.572468</td>\n",
              "      <td>0.714013</td>\n",
              "      <td>0.598948</td>\n",
              "      <td>0.623317</td>\n",
              "    </tr>\n",
              "    <tr>\n",
              "      <th>18</th>\n",
              "      <td>0.554881</td>\n",
              "      <td>0.478772</td>\n",
              "      <td>0.625116</td>\n",
              "      <td>0.617103</td>\n",
              "    </tr>\n",
              "    <tr>\n",
              "      <th>19</th>\n",
              "      <td>0.522650</td>\n",
              "      <td>0.778236</td>\n",
              "      <td>0.000000</td>\n",
              "      <td>0.608713</td>\n",
              "    </tr>\n",
              "    <tr>\n",
              "      <th>20</th>\n",
              "      <td>0.461169</td>\n",
              "      <td>0.476424</td>\n",
              "      <td>0.633053</td>\n",
              "      <td>0.584482</td>\n",
              "    </tr>\n",
              "    <tr>\n",
              "      <th>21</th>\n",
              "      <td>0.474084</td>\n",
              "      <td>0.780210</td>\n",
              "      <td>0.635327</td>\n",
              "      <td>0.544157</td>\n",
              "    </tr>\n",
              "    <tr>\n",
              "      <th>22</th>\n",
              "      <td>0.447505</td>\n",
              "      <td>0.544293</td>\n",
              "      <td>0.642920</td>\n",
              "      <td>0.538747</td>\n",
              "    </tr>\n",
              "    <tr>\n",
              "      <th>23</th>\n",
              "      <td>0.408424</td>\n",
              "      <td>0.414638</td>\n",
              "      <td>0.645992</td>\n",
              "      <td>0.529634</td>\n",
              "    </tr>\n",
              "    <tr>\n",
              "      <th>24</th>\n",
              "      <td>0.465947</td>\n",
              "      <td>0.365388</td>\n",
              "      <td>0.297964</td>\n",
              "      <td>0.528609</td>\n",
              "    </tr>\n",
              "    <tr>\n",
              "      <th>25</th>\n",
              "      <td>0.391080</td>\n",
              "      <td>0.671958</td>\n",
              "      <td>0.292427</td>\n",
              "      <td>0.522146</td>\n",
              "    </tr>\n",
              "    <tr>\n",
              "      <th>26</th>\n",
              "      <td>0.455574</td>\n",
              "      <td>0.706845</td>\n",
              "      <td>0.284134</td>\n",
              "      <td>0.512737</td>\n",
              "    </tr>\n",
              "    <tr>\n",
              "      <th>27</th>\n",
              "      <td>0.436093</td>\n",
              "      <td>0.582978</td>\n",
              "      <td>0.748613</td>\n",
              "      <td>0.508654</td>\n",
              "    </tr>\n",
              "    <tr>\n",
              "      <th>28</th>\n",
              "      <td>0.399467</td>\n",
              "      <td>1.000000</td>\n",
              "      <td>0.250429</td>\n",
              "      <td>0.498934</td>\n",
              "    </tr>\n",
              "    <tr>\n",
              "      <th>29</th>\n",
              "      <td>0.396769</td>\n",
              "      <td>0.774566</td>\n",
              "      <td>0.227092</td>\n",
              "      <td>0.486108</td>\n",
              "    </tr>\n",
              "    <tr>\n",
              "      <th>30</th>\n",
              "      <td>0.374931</td>\n",
              "      <td>0.489928</td>\n",
              "      <td>0.193163</td>\n",
              "      <td>0.480099</td>\n",
              "    </tr>\n",
              "    <tr>\n",
              "      <th>31</th>\n",
              "      <td>0.369741</td>\n",
              "      <td>0.772053</td>\n",
              "      <td>0.186989</td>\n",
              "      <td>0.466280</td>\n",
              "    </tr>\n",
              "    <tr>\n",
              "      <th>32</th>\n",
              "      <td>0.383485</td>\n",
              "      <td>0.593294</td>\n",
              "      <td>0.097683</td>\n",
              "      <td>0.465966</td>\n",
              "    </tr>\n",
              "    <tr>\n",
              "      <th>33</th>\n",
              "      <td>0.335617</td>\n",
              "      <td>0.394134</td>\n",
              "      <td>0.454943</td>\n",
              "      <td>0.462312</td>\n",
              "    </tr>\n",
              "    <tr>\n",
              "      <th>34</th>\n",
              "      <td>0.280776</td>\n",
              "      <td>0.810055</td>\n",
              "      <td>0.446810</td>\n",
              "      <td>0.461939</td>\n",
              "    </tr>\n",
              "    <tr>\n",
              "      <th>35</th>\n",
              "      <td>0.278284</td>\n",
              "      <td>0.257032</td>\n",
              "      <td>0.435618</td>\n",
              "      <td>0.460626</td>\n",
              "    </tr>\n",
              "    <tr>\n",
              "      <th>36</th>\n",
              "      <td>0.173353</td>\n",
              "      <td>0.576825</td>\n",
              "      <td>0.426311</td>\n",
              "      <td>0.428126</td>\n",
              "    </tr>\n",
              "    <tr>\n",
              "      <th>37</th>\n",
              "      <td>0.266527</td>\n",
              "      <td>0.000000</td>\n",
              "      <td>0.417626</td>\n",
              "      <td>0.423852</td>\n",
              "    </tr>\n",
              "    <tr>\n",
              "      <th>38</th>\n",
              "      <td>0.122345</td>\n",
              "      <td>0.111636</td>\n",
              "      <td>0.392690</td>\n",
              "      <td>0.374747</td>\n",
              "    </tr>\n",
              "    <tr>\n",
              "      <th>39</th>\n",
              "      <td>0.233194</td>\n",
              "      <td>0.241309</td>\n",
              "      <td>0.370931</td>\n",
              "      <td>0.373489</td>\n",
              "    </tr>\n",
              "    <tr>\n",
              "      <th>40</th>\n",
              "      <td>0.173901</td>\n",
              "      <td>0.512041</td>\n",
              "      <td>0.366260</td>\n",
              "      <td>0.357914</td>\n",
              "    </tr>\n",
              "    <tr>\n",
              "      <th>41</th>\n",
              "      <td>0.168691</td>\n",
              "      <td>0.254469</td>\n",
              "      <td>0.348614</td>\n",
              "      <td>0.355430</td>\n",
              "    </tr>\n",
              "    <tr>\n",
              "      <th>42</th>\n",
              "      <td>0.142976</td>\n",
              "      <td>0.341852</td>\n",
              "      <td>0.313705</td>\n",
              "      <td>0.319951</td>\n",
              "    </tr>\n",
              "    <tr>\n",
              "      <th>43</th>\n",
              "      <td>0.093776</td>\n",
              "      <td>0.579307</td>\n",
              "      <td>0.075319</td>\n",
              "      <td>0.310156</td>\n",
              "    </tr>\n",
              "    <tr>\n",
              "      <th>44</th>\n",
              "      <td>0.134127</td>\n",
              "      <td>0.788072</td>\n",
              "      <td>0.060059</td>\n",
              "      <td>0.284485</td>\n",
              "    </tr>\n",
              "    <tr>\n",
              "      <th>45</th>\n",
              "      <td>0.006049</td>\n",
              "      <td>0.554724</td>\n",
              "      <td>0.004036</td>\n",
              "      <td>0.282940</td>\n",
              "    </tr>\n",
              "    <tr>\n",
              "      <th>46</th>\n",
              "      <td>0.007956</td>\n",
              "      <td>0.491260</td>\n",
              "      <td>0.629768</td>\n",
              "      <td>0.196020</td>\n",
              "    </tr>\n",
              "    <tr>\n",
              "      <th>47</th>\n",
              "      <td>0.000000</td>\n",
              "      <td>0.640547</td>\n",
              "      <td>0.000000</td>\n",
              "      <td>0.156990</td>\n",
              "    </tr>\n",
              "    <tr>\n",
              "      <th>48</th>\n",
              "      <td>0.003278</td>\n",
              "      <td>0.003502</td>\n",
              "      <td>0.000000</td>\n",
              "      <td>0.118211</td>\n",
              "    </tr>\n",
              "  </tbody>\n",
              "</table>\n",
              "</div>"
            ],
            "text/plain": [
              "        RD_S   Admin_S    MRKT_S    Profit\n",
              "0   1.000000  0.651744  1.000000  1.000000\n",
              "1   0.983359  0.761972  0.940893  0.997355\n",
              "2   0.927985  0.379579  0.864664  0.993178\n",
              "3   0.873136  0.512998  0.812235  0.947292\n",
              "4   0.859438  0.305328  0.776136  0.853171\n",
              "5   0.797566  0.369448  0.769126  0.801382\n",
              "6   0.814128  0.730161  0.270710  0.796490\n",
              "7   0.788018  0.717457  0.686493  0.794407\n",
              "8   0.729018  0.741733  0.660500  0.774468\n",
              "9   0.745906  0.436929  0.646443  0.760661\n",
              "10  0.616351  0.451506  0.485733  0.740175\n",
              "11  0.608845  0.308364  0.529362  0.729686\n",
              "12  0.567670  0.578836  0.529563  0.714629\n",
              "13  0.556352  0.641066  0.535552  0.673644\n",
              "14  0.725394  0.801327  0.543708  0.664044\n",
              "15  0.692617  0.543030  0.554864  0.648921\n",
              "16  0.471808  0.535270  0.560312  0.632454\n",
              "17  0.572468  0.714013  0.598948  0.623317\n",
              "18  0.554881  0.478772  0.625116  0.617103\n",
              "19  0.522650  0.778236  0.000000  0.608713\n",
              "20  0.461169  0.476424  0.633053  0.584482\n",
              "21  0.474084  0.780210  0.635327  0.544157\n",
              "22  0.447505  0.544293  0.642920  0.538747\n",
              "23  0.408424  0.414638  0.645992  0.529634\n",
              "24  0.465947  0.365388  0.297964  0.528609\n",
              "25  0.391080  0.671958  0.292427  0.522146\n",
              "26  0.455574  0.706845  0.284134  0.512737\n",
              "27  0.436093  0.582978  0.748613  0.508654\n",
              "28  0.399467  1.000000  0.250429  0.498934\n",
              "29  0.396769  0.774566  0.227092  0.486108\n",
              "30  0.374931  0.489928  0.193163  0.480099\n",
              "31  0.369741  0.772053  0.186989  0.466280\n",
              "32  0.383485  0.593294  0.097683  0.465966\n",
              "33  0.335617  0.394134  0.454943  0.462312\n",
              "34  0.280776  0.810055  0.446810  0.461939\n",
              "35  0.278284  0.257032  0.435618  0.460626\n",
              "36  0.173353  0.576825  0.426311  0.428126\n",
              "37  0.266527  0.000000  0.417626  0.423852\n",
              "38  0.122345  0.111636  0.392690  0.374747\n",
              "39  0.233194  0.241309  0.370931  0.373489\n",
              "40  0.173901  0.512041  0.366260  0.357914\n",
              "41  0.168691  0.254469  0.348614  0.355430\n",
              "42  0.142976  0.341852  0.313705  0.319951\n",
              "43  0.093776  0.579307  0.075319  0.310156\n",
              "44  0.134127  0.788072  0.060059  0.284485\n",
              "45  0.006049  0.554724  0.004036  0.282940\n",
              "46  0.007956  0.491260  0.629768  0.196020\n",
              "47  0.000000  0.640547  0.000000  0.156990\n",
              "48  0.003278  0.003502  0.000000  0.118211"
            ]
          },
          "metadata": {},
          "execution_count": 88
        }
      ]
    },
    {
      "cell_type": "markdown",
      "metadata": {
        "id": "NYTSSwxA97aZ"
      },
      "source": [
        "# **Improving model**"
      ]
    },
    {
      "cell_type": "code",
      "metadata": {
        "id": "6ACYFESwnQtO"
      },
      "source": [
        "#Rebuild model and generate R-Squared and AIC values\n",
        "\n",
        "model1 = smf.ols('Profit ~RD_S+Admin_S+MRKT_S', data= startup_new).fit()"
      ],
      "execution_count": 89,
      "outputs": []
    },
    {
      "cell_type": "code",
      "metadata": {
        "colab": {
          "base_uri": "https://localhost:8080/",
          "height": 486
        },
        "id": "GFdjGIxsnQvt",
        "outputId": "c49c7378-4578-4c00-dca5-1ce2544e6fec"
      },
      "source": [
        "model1.summary()"
      ],
      "execution_count": 90,
      "outputs": [
        {
          "output_type": "execute_result",
          "data": {
            "text/html": [
              "<table class=\"simpletable\">\n",
              "<caption>OLS Regression Results</caption>\n",
              "<tr>\n",
              "  <th>Dep. Variable:</th>         <td>Profit</td>      <th>  R-squared:         </th> <td>   0.961</td>\n",
              "</tr>\n",
              "<tr>\n",
              "  <th>Model:</th>                   <td>OLS</td>       <th>  Adj. R-squared:    </th> <td>   0.959</td>\n",
              "</tr>\n",
              "<tr>\n",
              "  <th>Method:</th>             <td>Least Squares</td>  <th>  F-statistic:       </th> <td>   372.8</td>\n",
              "</tr>\n",
              "<tr>\n",
              "  <th>Date:</th>             <td>Mon, 30 Aug 2021</td> <th>  Prob (F-statistic):</th> <td>8.85e-32</td>\n",
              "</tr>\n",
              "<tr>\n",
              "  <th>Time:</th>                 <td>19:30:32</td>     <th>  Log-Likelihood:    </th> <td>  85.989</td>\n",
              "</tr>\n",
              "<tr>\n",
              "  <th>No. Observations:</th>      <td>    49</td>      <th>  AIC:               </th> <td>  -164.0</td>\n",
              "</tr>\n",
              "<tr>\n",
              "  <th>Df Residuals:</th>          <td>    45</td>      <th>  BIC:               </th> <td>  -156.4</td>\n",
              "</tr>\n",
              "<tr>\n",
              "  <th>Df Model:</th>              <td>     3</td>      <th>                     </th>     <td> </td>   \n",
              "</tr>\n",
              "<tr>\n",
              "  <th>Covariance Type:</th>      <td>nonrobust</td>    <th>                     </th>     <td> </td>   \n",
              "</tr>\n",
              "</table>\n",
              "<table class=\"simpletable\">\n",
              "<tr>\n",
              "      <td></td>         <th>coef</th>     <th>std err</th>      <th>t</th>      <th>P>|t|</th>  <th>[0.025</th>    <th>0.975]</th>  \n",
              "</tr>\n",
              "<tr>\n",
              "  <th>Intercept</th> <td>    0.2059</td> <td>    0.021</td> <td>    9.950</td> <td> 0.000</td> <td>    0.164</td> <td>    0.248</td>\n",
              "</tr>\n",
              "<tr>\n",
              "  <th>RD_S</th>      <td>    0.7291</td> <td>    0.036</td> <td>   20.470</td> <td> 0.000</td> <td>    0.657</td> <td>    0.801</td>\n",
              "</tr>\n",
              "<tr>\n",
              "  <th>Admin_S</th>   <td>   -0.0164</td> <td>    0.032</td> <td>   -0.518</td> <td> 0.607</td> <td>   -0.080</td> <td>    0.047</td>\n",
              "</tr>\n",
              "<tr>\n",
              "  <th>MRKT_S</th>    <td>    0.0670</td> <td>    0.037</td> <td>    1.825</td> <td> 0.075</td> <td>   -0.007</td> <td>    0.141</td>\n",
              "</tr>\n",
              "</table>\n",
              "<table class=\"simpletable\">\n",
              "<tr>\n",
              "  <th>Omnibus:</th>       <td> 0.082</td> <th>  Durbin-Watson:     </th> <td>   1.598</td>\n",
              "</tr>\n",
              "<tr>\n",
              "  <th>Prob(Omnibus):</th> <td> 0.960</td> <th>  Jarque-Bera (JB):  </th> <td>   0.232</td>\n",
              "</tr>\n",
              "<tr>\n",
              "  <th>Skew:</th>          <td>-0.082</td> <th>  Prob(JB):          </th> <td>   0.890</td>\n",
              "</tr>\n",
              "<tr>\n",
              "  <th>Kurtosis:</th>      <td> 2.706</td> <th>  Cond. No.          </th> <td>    10.8</td>\n",
              "</tr>\n",
              "</table><br/><br/>Warnings:<br/>[1] Standard Errors assume that the covariance matrix of the errors is correctly specified."
            ],
            "text/plain": [
              "<class 'statsmodels.iolib.summary.Summary'>\n",
              "\"\"\"\n",
              "                            OLS Regression Results                            \n",
              "==============================================================================\n",
              "Dep. Variable:                 Profit   R-squared:                       0.961\n",
              "Model:                            OLS   Adj. R-squared:                  0.959\n",
              "Method:                 Least Squares   F-statistic:                     372.8\n",
              "Date:                Mon, 30 Aug 2021   Prob (F-statistic):           8.85e-32\n",
              "Time:                        19:30:32   Log-Likelihood:                 85.989\n",
              "No. Observations:                  49   AIC:                            -164.0\n",
              "Df Residuals:                      45   BIC:                            -156.4\n",
              "Df Model:                           3                                         \n",
              "Covariance Type:            nonrobust                                         \n",
              "==============================================================================\n",
              "                 coef    std err          t      P>|t|      [0.025      0.975]\n",
              "------------------------------------------------------------------------------\n",
              "Intercept      0.2059      0.021      9.950      0.000       0.164       0.248\n",
              "RD_S           0.7291      0.036     20.470      0.000       0.657       0.801\n",
              "Admin_S       -0.0164      0.032     -0.518      0.607      -0.080       0.047\n",
              "MRKT_S         0.0670      0.037      1.825      0.075      -0.007       0.141\n",
              "==============================================================================\n",
              "Omnibus:                        0.082   Durbin-Watson:                   1.598\n",
              "Prob(Omnibus):                  0.960   Jarque-Bera (JB):                0.232\n",
              "Skew:                          -0.082   Prob(JB):                        0.890\n",
              "Kurtosis:                       2.706   Cond. No.                         10.8\n",
              "==============================================================================\n",
              "\n",
              "Warnings:\n",
              "[1] Standard Errors assume that the covariance matrix of the errors is correctly specified.\n",
              "\"\"\""
            ]
          },
          "metadata": {},
          "execution_count": 90
        }
      ]
    },
    {
      "cell_type": "code",
      "metadata": {
        "colab": {
          "base_uri": "https://localhost:8080/"
        },
        "id": "QHigZ8i9nQyU",
        "outputId": "745c14de-c481-4eab-e127-6c0799815468"
      },
      "source": [
        "(c1, _)= model1.get_influence().cooks_distance\n",
        "c1"
      ],
      "execution_count": 91,
      "outputs": [
        {
          "output_type": "execute_result",
          "data": {
            "text/plain": [
              "array([1.66350327e-03, 1.23799116e-02, 6.50218747e-02, 4.03899998e-02,\n",
              "       1.28650631e-02, 1.21058543e-02, 2.73552112e-03, 3.61057988e-03,\n",
              "       2.02797815e-04, 5.30263697e-03, 2.14218192e-02, 2.37342297e-02,\n",
              "       1.58363724e-02, 5.22784116e-03, 8.43989066e-02, 4.65559091e-02,\n",
              "       1.07193528e-02, 5.12051798e-03, 3.22585991e-03, 4.29215716e-02,\n",
              "       3.40892355e-04, 1.88659002e-02, 5.25774010e-03, 8.63061914e-04,\n",
              "       9.41132587e-03, 2.64353068e-03, 7.04291169e-03, 4.71293937e-02,\n",
              "       4.68589970e-05, 1.23474983e-03, 1.33416709e-04, 8.33867345e-04,\n",
              "       3.47851752e-03, 6.91264848e-04, 1.96199658e-02, 6.20542092e-03,\n",
              "       6.41990558e-02, 5.15924382e-04, 5.90383781e-02, 5.21168130e-03,\n",
              "       6.18372420e-04, 5.54615495e-04, 2.62020740e-04, 1.76373696e-02,\n",
              "       1.77776263e-03, 9.79664450e-02, 1.39422650e-01, 2.47514796e-02,\n",
              "       3.92744206e-01])"
            ]
          },
          "metadata": {},
          "execution_count": 91
        }
      ]
    },
    {
      "cell_type": "code",
      "metadata": {
        "colab": {
          "base_uri": "https://localhost:8080/",
          "height": 496
        },
        "id": "HcxodifhnQ1A",
        "outputId": "f1dc6bdb-44db-4b36-f3a1-87304581efbb"
      },
      "source": [
        "#Plot the influencers values using stem plot\n",
        "fig = plt.subplots(figsize=(20, 7))\n",
        "plt.stem(np.arange(len(startup_new)), np.round(c1,3))\n",
        "plt.xlabel('Row index')\n",
        "plt.ylabel('Cooks distance')\n",
        "plt.show()"
      ],
      "execution_count": 92,
      "outputs": [
        {
          "output_type": "stream",
          "name": "stderr",
          "text": [
            "/usr/local/lib/python3.7/dist-packages/ipykernel_launcher.py:3: UserWarning: In Matplotlib 3.3 individual lines on a stem plot will be added as a LineCollection instead of individual lines. This significantly improves the performance of a stem plot. To remove this warning and switch to the new behaviour, set the \"use_line_collection\" keyword argument to True.\n",
            "  This is separate from the ipykernel package so we can avoid doing imports until\n"
          ]
        },
        {
          "output_type": "display_data",
          "data": {
            "image/png": "[encoded data removed]",
            "text/plain": [
              "<Figure size 1440x504 with 1 Axes>"
            ]
          },
          "metadata": {}
        }
      ]
    },
    {
      "cell_type": "code",
      "metadata": {
        "colab": {
          "base_uri": "https://localhost:8080/"
        },
        "id": "i9EqdyA-EM_i",
        "outputId": "09224d07-39de-428c-ef2b-f680990ce1c0"
      },
      "source": [
        "np.argmax(c1), np.max(c1)"
      ],
      "execution_count": 93,
      "outputs": [
        {
          "output_type": "execute_result",
          "data": {
            "text/plain": [
              "(48, 0.39274420556321643)"
            ]
          },
          "metadata": {},
          "execution_count": 93
        }
      ]
    },
    {
      "cell_type": "code",
      "metadata": {
        "colab": {
          "base_uri": "https://localhost:8080/"
        },
        "id": "1a29R29ajU7W",
        "outputId": "f305423c-e758-4284-9c7c-9fa262ec4ca8"
      },
      "source": [
        "# leverage cutoff value\n",
        "leverage_cutoff = 3*((4 + 1)/49)\n",
        "print('leverage cutoff =',leverage_cutoff)"
      ],
      "execution_count": 96,
      "outputs": [
        {
          "output_type": "stream",
          "name": "stdout",
          "text": [
            "leverage cutoff = 0.30612244897959184\n"
          ]
        }
      ]
    },
    {
      "cell_type": "code",
      "metadata": {
        "colab": {
          "base_uri": "https://localhost:8080/",
          "height": 80
        },
        "id": "xO87ftqAjmiT",
        "outputId": "3522a995-8497-4b91-8ac7-31775b2710d4"
      },
      "source": [
        "# deleting 48th record since its cook's distance value is beyond leverage cutoff\n",
        "startup_new[startup_new.index.isin([48])]"
      ],
      "execution_count": 97,
      "outputs": [
        {
          "output_type": "execute_result",
          "data": {
            "text/html": [
              "<div>\n",
              "<style scoped>\n",
              "    .dataframe tbody tr th:only-of-type {\n",
              "        vertical-align: middle;\n",
              "    }\n",
              "\n",
              "    .dataframe tbody tr th {\n",
              "        vertical-align: top;\n",
              "    }\n",
              "\n",
              "    .dataframe thead th {\n",
              "        text-align: right;\n",
              "    }\n",
              "</style>\n",
              "<table border=\"1\" class=\"dataframe\">\n",
              "  <thead>\n",
              "    <tr style=\"text-align: right;\">\n",
              "      <th></th>\n",
              "      <th>RD_S</th>\n",
              "      <th>Admin_S</th>\n",
              "      <th>MRKT_S</th>\n",
              "      <th>Profit</th>\n",
              "    </tr>\n",
              "  </thead>\n",
              "  <tbody>\n",
              "    <tr>\n",
              "      <th>48</th>\n",
              "      <td>0.003278</td>\n",
              "      <td>0.003502</td>\n",
              "      <td>0.0</td>\n",
              "      <td>0.118211</td>\n",
              "    </tr>\n",
              "  </tbody>\n",
              "</table>\n",
              "</div>"
            ],
            "text/plain": [
              "        RD_S   Admin_S  MRKT_S    Profit\n",
              "48  0.003278  0.003502     0.0  0.118211"
            ]
          },
          "metadata": {},
          "execution_count": 97
        }
      ]
    },
    {
      "cell_type": "code",
      "metadata": {
        "id": "oLPyo24Qjmfb"
      },
      "source": [
        "startup_new = startup_new.drop(startup_new.index[[48]],axis=0)"
      ],
      "execution_count": 98,
      "outputs": []
    },
    {
      "cell_type": "code",
      "metadata": {
        "colab": {
          "base_uri": "https://localhost:8080/"
        },
        "id": "wITr08Ogjmca",
        "outputId": "141ebfea-206a-4c04-cf02-bc98ac5563ac"
      },
      "source": [
        "startup_new.shape"
      ],
      "execution_count": 100,
      "outputs": [
        {
          "output_type": "execute_result",
          "data": {
            "text/plain": [
              "(48, 4)"
            ]
          },
          "metadata": {},
          "execution_count": 100
        }
      ]
    },
    {
      "cell_type": "markdown",
      "metadata": {
        "id": "Tt74YeHfk2Zi"
      },
      "source": [
        "# **Rebuilding Model**"
      ]
    },
    {
      "cell_type": "code",
      "metadata": {
        "id": "OPNlBey9ogTx"
      },
      "source": [
        "#Rebuild model and generate R-Squared and AIC values\n",
        "\n",
        "model2 = smf.ols('Profit ~ RD_S+ Admin_S+ MRKT_S', data= startup_new).fit()"
      ],
      "execution_count": 123,
      "outputs": []
    },
    {
      "cell_type": "code",
      "metadata": {
        "colab": {
          "base_uri": "https://localhost:8080/",
          "height": 486
        },
        "id": "JWxKI9J-orcB",
        "outputId": "8fd2546d-106a-4518-b258-0d74f441dd5e"
      },
      "source": [
        "model2.summary()"
      ],
      "execution_count": 124,
      "outputs": [
        {
          "output_type": "execute_result",
          "data": {
            "text/html": [
              "<table class=\"simpletable\">\n",
              "<caption>OLS Regression Results</caption>\n",
              "<tr>\n",
              "  <th>Dep. Variable:</th>         <td>Profit</td>      <th>  R-squared:         </th> <td>   0.963</td>\n",
              "</tr>\n",
              "<tr>\n",
              "  <th>Model:</th>                   <td>OLS</td>       <th>  Adj. R-squared:    </th> <td>   0.960</td>\n",
              "</tr>\n",
              "<tr>\n",
              "  <th>Method:</th>             <td>Least Squares</td>  <th>  F-statistic:       </th> <td>   378.3</td>\n",
              "</tr>\n",
              "<tr>\n",
              "  <th>Date:</th>             <td>Mon, 30 Aug 2021</td> <th>  Prob (F-statistic):</th> <td>2.03e-31</td>\n",
              "</tr>\n",
              "<tr>\n",
              "  <th>Time:</th>                 <td>19:56:57</td>     <th>  Log-Likelihood:    </th> <td>  86.850</td>\n",
              "</tr>\n",
              "<tr>\n",
              "  <th>No. Observations:</th>      <td>    48</td>      <th>  AIC:               </th> <td>  -165.7</td>\n",
              "</tr>\n",
              "<tr>\n",
              "  <th>Df Residuals:</th>          <td>    44</td>      <th>  BIC:               </th> <td>  -158.2</td>\n",
              "</tr>\n",
              "<tr>\n",
              "  <th>Df Model:</th>              <td>     3</td>      <th>                     </th>     <td> </td>   \n",
              "</tr>\n",
              "<tr>\n",
              "  <th>Covariance Type:</th>      <td>nonrobust</td>    <th>                     </th>     <td> </td>   \n",
              "</tr>\n",
              "</table>\n",
              "<table class=\"simpletable\">\n",
              "<tr>\n",
              "      <td></td>         <th>coef</th>     <th>std err</th>      <th>t</th>      <th>P>|t|</th>  <th>[0.025</th>    <th>0.975]</th>  \n",
              "</tr>\n",
              "<tr>\n",
              "  <th>Intercept</th> <td>    0.2318</td> <td>    0.022</td> <td>   10.418</td> <td> 0.000</td> <td>    0.187</td> <td>    0.277</td>\n",
              "</tr>\n",
              "<tr>\n",
              "  <th>RD_S</th>      <td>    0.7351</td> <td>    0.034</td> <td>   21.718</td> <td> 0.000</td> <td>    0.667</td> <td>    0.803</td>\n",
              "</tr>\n",
              "<tr>\n",
              "  <th>Admin_S</th>   <td>   -0.0469</td> <td>    0.032</td> <td>   -1.442</td> <td> 0.156</td> <td>   -0.112</td> <td>    0.019</td>\n",
              "</tr>\n",
              "<tr>\n",
              "  <th>MRKT_S</th>    <td>    0.0449</td> <td>    0.036</td> <td>    1.249</td> <td> 0.218</td> <td>   -0.028</td> <td>    0.117</td>\n",
              "</tr>\n",
              "</table>\n",
              "<table class=\"simpletable\">\n",
              "<tr>\n",
              "  <th>Omnibus:</th>       <td> 0.287</td> <th>  Durbin-Watson:     </th> <td>   1.809</td>\n",
              "</tr>\n",
              "<tr>\n",
              "  <th>Prob(Omnibus):</th> <td> 0.866</td> <th>  Jarque-Bera (JB):  </th> <td>   0.475</td>\n",
              "</tr>\n",
              "<tr>\n",
              "  <th>Skew:</th>          <td> 0.057</td> <th>  Prob(JB):          </th> <td>   0.789</td>\n",
              "</tr>\n",
              "<tr>\n",
              "  <th>Kurtosis:</th>      <td> 2.526</td> <th>  Cond. No.          </th> <td>    11.3</td>\n",
              "</tr>\n",
              "</table><br/><br/>Warnings:<br/>[1] Standard Errors assume that the covariance matrix of the errors is correctly specified."
            ],
            "text/plain": [
              "<class 'statsmodels.iolib.summary.Summary'>\n",
              "\"\"\"\n",
              "                            OLS Regression Results                            \n",
              "==============================================================================\n",
              "Dep. Variable:                 Profit   R-squared:                       0.963\n",
              "Model:                            OLS   Adj. R-squared:                  0.960\n",
              "Method:                 Least Squares   F-statistic:                     378.3\n",
              "Date:                Mon, 30 Aug 2021   Prob (F-statistic):           2.03e-31\n",
              "Time:                        19:56:57   Log-Likelihood:                 86.850\n",
              "No. Observations:                  48   AIC:                            -165.7\n",
              "Df Residuals:                      44   BIC:                            -158.2\n",
              "Df Model:                           3                                         \n",
              "Covariance Type:            nonrobust                                         \n",
              "==============================================================================\n",
              "                 coef    std err          t      P>|t|      [0.025      0.975]\n",
              "------------------------------------------------------------------------------\n",
              "Intercept      0.2318      0.022     10.418      0.000       0.187       0.277\n",
              "RD_S           0.7351      0.034     21.718      0.000       0.667       0.803\n",
              "Admin_S       -0.0469      0.032     -1.442      0.156      -0.112       0.019\n",
              "MRKT_S         0.0449      0.036      1.249      0.218      -0.028       0.117\n",
              "==============================================================================\n",
              "Omnibus:                        0.287   Durbin-Watson:                   1.809\n",
              "Prob(Omnibus):                  0.866   Jarque-Bera (JB):                0.475\n",
              "Skew:                           0.057   Prob(JB):                        0.789\n",
              "Kurtosis:                       2.526   Cond. No.                         11.3\n",
              "==============================================================================\n",
              "\n",
              "Warnings:\n",
              "[1] Standard Errors assume that the covariance matrix of the errors is correctly specified.\n",
              "\"\"\""
            ]
          },
          "metadata": {},
          "execution_count": 124
        }
      ]
    },
    {
      "cell_type": "code",
      "metadata": {
        "colab": {
          "base_uri": "https://localhost:8080/"
        },
        "id": "sb97FW3yti9A",
        "outputId": "82b811b5-408d-4175-ab70-d4c15ec6ffad"
      },
      "source": [
        "(c2, _)= model2.get_influence().cooks_distance\n",
        "c2"
      ],
      "execution_count": 152,
      "outputs": [
        {
          "output_type": "execute_result",
          "data": {
            "text/plain": [
              "array([0.0094125 , 0.03599295, 0.07038599, 0.04910179, 0.02027973,\n",
              "       0.01581269, 0.00508904, 0.00203414, 0.00139645, 0.00741048,\n",
              "       0.02122911, 0.02036064, 0.01761793, 0.0065972 , 0.08739921,\n",
              "       0.05356297, 0.01189486, 0.00394455, 0.00383202, 0.03474835,\n",
              "       0.00036025, 0.01334921, 0.00501967, 0.00125401, 0.02328487,\n",
              "       0.00260973, 0.00828195, 0.0439174 , 0.00219589, 0.00131071,\n",
              "       0.00179249, 0.00104067, 0.00938565, 0.00186774, 0.03319456,\n",
              "       0.00319554, 0.07149117, 0.02037088, 0.04383268, 0.01633989,\n",
              "       0.0002867 , 0.0002371 , 0.00246905, 0.01432865, 0.00257352,\n",
              "       0.0951408 , 0.13829134, 0.03936831])"
            ]
          },
          "metadata": {},
          "execution_count": 152
        }
      ]
    },
    {
      "cell_type": "code",
      "metadata": {
        "colab": {
          "base_uri": "https://localhost:8080/",
          "height": 496
        },
        "id": "KLlA06aTtz8k",
        "outputId": "2f947dba-8e6c-4716-bcdb-f82f458bddad"
      },
      "source": [
        "#Plot the influencers values using stem plot\n",
        "fig = plt.subplots(figsize=(20, 7))\n",
        "plt.stem(np.arange(len(startup_new)), np.round(c2,3))\n",
        "plt.xlabel('Row index')\n",
        "plt.ylabel('Cooks distance')\n",
        "plt.show()"
      ],
      "execution_count": 153,
      "outputs": [
        {
          "output_type": "stream",
          "name": "stderr",
          "text": [
            "/usr/local/lib/python3.7/dist-packages/ipykernel_launcher.py:3: UserWarning: In Matplotlib 3.3 individual lines on a stem plot will be added as a LineCollection instead of individual lines. This significantly improves the performance of a stem plot. To remove this warning and switch to the new behaviour, set the \"use_line_collection\" keyword argument to True.\n",
            "  This is separate from the ipykernel package so we can avoid doing imports until\n"
          ]
        },
        {
          "output_type": "display_data",
          "data": {
            "image/png": "[encoded data removed]",
            "text/plain": [
              "<Figure size 1440x504 with 1 Axes>"
            ]
          },
          "metadata": {}
        }
      ]
    },
    {
      "cell_type": "code",
      "metadata": {
        "colab": {
          "base_uri": "https://localhost:8080/"
        },
        "id": "9MhAChnXuCZP",
        "outputId": "a474ea66-e267-4909-e079-835a4dc65afa"
      },
      "source": [
        "np.argmax(c2), np.max(c2)"
      ],
      "execution_count": 154,
      "outputs": [
        {
          "output_type": "execute_result",
          "data": {
            "text/plain": [
              "(46, 0.13829133994334522)"
            ]
          },
          "metadata": {},
          "execution_count": 154
        }
      ]
    },
    {
      "cell_type": "code",
      "metadata": {
        "colab": {
          "base_uri": "https://localhost:8080/"
        },
        "id": "rJc7vFbZuCZQ",
        "outputId": "ce45d180-6670-4788-bcc2-ae57f7f5ffad"
      },
      "source": [
        "# leverage cutoff value\n",
        "leverage_cutoff = 3*((4 + 1)/48)\n",
        "print('leverage cutoff =',leverage_cutoff)"
      ],
      "execution_count": 155,
      "outputs": [
        {
          "output_type": "stream",
          "name": "stdout",
          "text": [
            "leverage cutoff = 0.3125\n"
          ]
        }
      ]
    },
    {
      "cell_type": "markdown",
      "metadata": {
        "id": "hm4DGHEsuSwv"
      },
      "source": [
        "**Inference : No outliers**"
      ]
    },
    {
      "cell_type": "markdown",
      "metadata": {
        "id": "8TZTjKhvnxiU"
      },
      "source": [
        "# Applying sqrt transformation"
      ]
    },
    {
      "cell_type": "code",
      "metadata": {
        "id": "jagZfp--jmZT"
      },
      "source": [
        "#Rebuild model and generate R-Squared and AIC values\n",
        "\n",
        "model3 = smf.ols('Profit ~ np.sqrt(RD_S)+ (np.sqrt(Admin_S))+ (np.sqrt(MRKT_S))', data= startup_new).fit()\n"
      ],
      "execution_count": 125,
      "outputs": []
    },
    {
      "cell_type": "code",
      "metadata": {
        "colab": {
          "base_uri": "https://localhost:8080/"
        },
        "id": "CanWpdZ6jmWX",
        "outputId": "dd96d1e9-5f3b-44f4-907d-3479333ab6f5"
      },
      "source": [
        "model3.params"
      ],
      "execution_count": 126,
      "outputs": [
        {
          "output_type": "execute_result",
          "data": {
            "text/plain": [
              "Intercept           0.018377\n",
              "np.sqrt(RD_S)       0.781593\n",
              "np.sqrt(Admin_S)    0.004072\n",
              "np.sqrt(MRKT_S)     0.072726\n",
              "dtype: float64"
            ]
          },
          "metadata": {},
          "execution_count": 126
        }
      ]
    },
    {
      "cell_type": "code",
      "metadata": {
        "colab": {
          "base_uri": "https://localhost:8080/",
          "height": 486
        },
        "id": "4a_UIO12jmG3",
        "outputId": "cc5df3a5-d80b-456d-e05c-247f5672ce1c"
      },
      "source": [
        "model3.summary()"
      ],
      "execution_count": 127,
      "outputs": [
        {
          "output_type": "execute_result",
          "data": {
            "text/html": [
              "<table class=\"simpletable\">\n",
              "<caption>OLS Regression Results</caption>\n",
              "<tr>\n",
              "  <th>Dep. Variable:</th>         <td>Profit</td>      <th>  R-squared:         </th> <td>   0.887</td>\n",
              "</tr>\n",
              "<tr>\n",
              "  <th>Model:</th>                   <td>OLS</td>       <th>  Adj. R-squared:    </th> <td>   0.879</td>\n",
              "</tr>\n",
              "<tr>\n",
              "  <th>Method:</th>             <td>Least Squares</td>  <th>  F-statistic:       </th> <td>   114.6</td>\n",
              "</tr>\n",
              "<tr>\n",
              "  <th>Date:</th>             <td>Mon, 30 Aug 2021</td> <th>  Prob (F-statistic):</th> <td>8.23e-21</td>\n",
              "</tr>\n",
              "<tr>\n",
              "  <th>Time:</th>                 <td>19:58:57</td>     <th>  Log-Likelihood:    </th> <td>  60.159</td>\n",
              "</tr>\n",
              "<tr>\n",
              "  <th>No. Observations:</th>      <td>    48</td>      <th>  AIC:               </th> <td>  -112.3</td>\n",
              "</tr>\n",
              "<tr>\n",
              "  <th>Df Residuals:</th>          <td>    44</td>      <th>  BIC:               </th> <td>  -104.8</td>\n",
              "</tr>\n",
              "<tr>\n",
              "  <th>Df Model:</th>              <td>     3</td>      <th>                     </th>     <td> </td>   \n",
              "</tr>\n",
              "<tr>\n",
              "  <th>Covariance Type:</th>      <td>nonrobust</td>    <th>                     </th>     <td> </td>   \n",
              "</tr>\n",
              "</table>\n",
              "<table class=\"simpletable\">\n",
              "<tr>\n",
              "          <td></td>            <th>coef</th>     <th>std err</th>      <th>t</th>      <th>P>|t|</th>  <th>[0.025</th>    <th>0.975]</th>  \n",
              "</tr>\n",
              "<tr>\n",
              "  <th>Intercept</th>        <td>    0.0184</td> <td>    0.058</td> <td>    0.316</td> <td> 0.754</td> <td>   -0.099</td> <td>    0.136</td>\n",
              "</tr>\n",
              "<tr>\n",
              "  <th>np.sqrt(RD_S)</th>    <td>    0.7816</td> <td>    0.062</td> <td>   12.636</td> <td> 0.000</td> <td>    0.657</td> <td>    0.906</td>\n",
              "</tr>\n",
              "<tr>\n",
              "  <th>np.sqrt(Admin_S)</th> <td>    0.0041</td> <td>    0.067</td> <td>    0.061</td> <td> 0.952</td> <td>   -0.130</td> <td>    0.138</td>\n",
              "</tr>\n",
              "<tr>\n",
              "  <th>np.sqrt(MRKT_S)</th>  <td>    0.0727</td> <td>    0.062</td> <td>    1.181</td> <td> 0.244</td> <td>   -0.051</td> <td>    0.197</td>\n",
              "</tr>\n",
              "</table>\n",
              "<table class=\"simpletable\">\n",
              "<tr>\n",
              "  <th>Omnibus:</th>       <td> 8.020</td> <th>  Durbin-Watson:     </th> <td>   0.770</td>\n",
              "</tr>\n",
              "<tr>\n",
              "  <th>Prob(Omnibus):</th> <td> 0.018</td> <th>  Jarque-Bera (JB):  </th> <td>   7.613</td>\n",
              "</tr>\n",
              "<tr>\n",
              "  <th>Skew:</th>          <td> 0.968</td> <th>  Prob(JB):          </th> <td>  0.0222</td>\n",
              "</tr>\n",
              "<tr>\n",
              "  <th>Kurtosis:</th>      <td> 3.245</td> <th>  Cond. No.          </th> <td>    14.3</td>\n",
              "</tr>\n",
              "</table><br/><br/>Warnings:<br/>[1] Standard Errors assume that the covariance matrix of the errors is correctly specified."
            ],
            "text/plain": [
              "<class 'statsmodels.iolib.summary.Summary'>\n",
              "\"\"\"\n",
              "                            OLS Regression Results                            \n",
              "==============================================================================\n",
              "Dep. Variable:                 Profit   R-squared:                       0.887\n",
              "Model:                            OLS   Adj. R-squared:                  0.879\n",
              "Method:                 Least Squares   F-statistic:                     114.6\n",
              "Date:                Mon, 30 Aug 2021   Prob (F-statistic):           8.23e-21\n",
              "Time:                        19:58:57   Log-Likelihood:                 60.159\n",
              "No. Observations:                  48   AIC:                            -112.3\n",
              "Df Residuals:                      44   BIC:                            -104.8\n",
              "Df Model:                           3                                         \n",
              "Covariance Type:            nonrobust                                         \n",
              "====================================================================================\n",
              "                       coef    std err          t      P>|t|      [0.025      0.975]\n",
              "------------------------------------------------------------------------------------\n",
              "Intercept            0.0184      0.058      0.316      0.754      -0.099       0.136\n",
              "np.sqrt(RD_S)        0.7816      0.062     12.636      0.000       0.657       0.906\n",
              "np.sqrt(Admin_S)     0.0041      0.067      0.061      0.952      -0.130       0.138\n",
              "np.sqrt(MRKT_S)      0.0727      0.062      1.181      0.244      -0.051       0.197\n",
              "==============================================================================\n",
              "Omnibus:                        8.020   Durbin-Watson:                   0.770\n",
              "Prob(Omnibus):                  0.018   Jarque-Bera (JB):                7.613\n",
              "Skew:                           0.968   Prob(JB):                       0.0222\n",
              "Kurtosis:                       3.245   Cond. No.                         14.3\n",
              "==============================================================================\n",
              "\n",
              "Warnings:\n",
              "[1] Standard Errors assume that the covariance matrix of the errors is correctly specified.\n",
              "\"\"\""
            ]
          },
          "metadata": {},
          "execution_count": 127
        }
      ]
    },
    {
      "cell_type": "markdown",
      "metadata": {
        "id": "Akd6HhfloNXQ"
      },
      "source": [
        "# Applying square transformation"
      ]
    },
    {
      "cell_type": "code",
      "metadata": {
        "id": "ULeu7yv2lPeE"
      },
      "source": [
        "#Rebuild model and generate R-Squared and AIC values\n",
        "\n",
        "model4 = smf.ols('Profit ~ np.square(RD_S)+ np.square(Admin_S)+ np.square(MRKT_S)', data= startup_new).fit()"
      ],
      "execution_count": 129,
      "outputs": []
    },
    {
      "cell_type": "code",
      "metadata": {
        "colab": {
          "base_uri": "https://localhost:8080/",
          "height": 486
        },
        "id": "4eJxEvSelPXi",
        "outputId": "778a3f60-8d69-4e06-dcfe-f177508a318f"
      },
      "source": [
        "model4.summary()"
      ],
      "execution_count": 130,
      "outputs": [
        {
          "output_type": "execute_result",
          "data": {
            "text/html": [
              "<table class=\"simpletable\">\n",
              "<caption>OLS Regression Results</caption>\n",
              "<tr>\n",
              "  <th>Dep. Variable:</th>         <td>Profit</td>      <th>  R-squared:         </th> <td>   0.903</td>\n",
              "</tr>\n",
              "<tr>\n",
              "  <th>Model:</th>                   <td>OLS</td>       <th>  Adj. R-squared:    </th> <td>   0.896</td>\n",
              "</tr>\n",
              "<tr>\n",
              "  <th>Method:</th>             <td>Least Squares</td>  <th>  F-statistic:       </th> <td>   136.5</td>\n",
              "</tr>\n",
              "<tr>\n",
              "  <th>Date:</th>             <td>Mon, 30 Aug 2021</td> <th>  Prob (F-statistic):</th> <td>2.62e-22</td>\n",
              "</tr>\n",
              "<tr>\n",
              "  <th>Time:</th>                 <td>19:59:26</td>     <th>  Log-Likelihood:    </th> <td>  63.929</td>\n",
              "</tr>\n",
              "<tr>\n",
              "  <th>No. Observations:</th>      <td>    48</td>      <th>  AIC:               </th> <td>  -119.9</td>\n",
              "</tr>\n",
              "<tr>\n",
              "  <th>Df Residuals:</th>          <td>    44</td>      <th>  BIC:               </th> <td>  -112.4</td>\n",
              "</tr>\n",
              "<tr>\n",
              "  <th>Df Model:</th>              <td>     3</td>      <th>                     </th>     <td> </td>   \n",
              "</tr>\n",
              "<tr>\n",
              "  <th>Covariance Type:</th>      <td>nonrobust</td>    <th>                     </th>     <td> </td>   \n",
              "</tr>\n",
              "</table>\n",
              "<table class=\"simpletable\">\n",
              "<tr>\n",
              "           <td></td>             <th>coef</th>     <th>std err</th>      <th>t</th>      <th>P>|t|</th>  <th>[0.025</th>    <th>0.975]</th>  \n",
              "</tr>\n",
              "<tr>\n",
              "  <th>Intercept</th>          <td>    0.3704</td> <td>    0.022</td> <td>   16.476</td> <td> 0.000</td> <td>    0.325</td> <td>    0.416</td>\n",
              "</tr>\n",
              "<tr>\n",
              "  <th>np.square(RD_S)</th>    <td>    0.7306</td> <td>    0.061</td> <td>   11.939</td> <td> 0.000</td> <td>    0.607</td> <td>    0.854</td>\n",
              "</tr>\n",
              "<tr>\n",
              "  <th>np.square(Admin_S)</th> <td>   -0.0258</td> <td>    0.048</td> <td>   -0.537</td> <td> 0.594</td> <td>   -0.123</td> <td>    0.071</td>\n",
              "</tr>\n",
              "<tr>\n",
              "  <th>np.square(MRKT_S)</th>  <td>   -0.0073</td> <td>    0.070</td> <td>   -0.105</td> <td> 0.917</td> <td>   -0.147</td> <td>    0.133</td>\n",
              "</tr>\n",
              "</table>\n",
              "<table class=\"simpletable\">\n",
              "<tr>\n",
              "  <th>Omnibus:</th>       <td> 7.897</td> <th>  Durbin-Watson:     </th> <td>   0.602</td>\n",
              "</tr>\n",
              "<tr>\n",
              "  <th>Prob(Omnibus):</th> <td> 0.019</td> <th>  Jarque-Bera (JB):  </th> <td>   7.082</td>\n",
              "</tr>\n",
              "<tr>\n",
              "  <th>Skew:</th>          <td>-0.747</td> <th>  Prob(JB):          </th> <td>  0.0290</td>\n",
              "</tr>\n",
              "<tr>\n",
              "  <th>Kurtosis:</th>      <td> 4.144</td> <th>  Cond. No.          </th> <td>    10.7</td>\n",
              "</tr>\n",
              "</table><br/><br/>Warnings:<br/>[1] Standard Errors assume that the covariance matrix of the errors is correctly specified."
            ],
            "text/plain": [
              "<class 'statsmodels.iolib.summary.Summary'>\n",
              "\"\"\"\n",
              "                            OLS Regression Results                            \n",
              "==============================================================================\n",
              "Dep. Variable:                 Profit   R-squared:                       0.903\n",
              "Model:                            OLS   Adj. R-squared:                  0.896\n",
              "Method:                 Least Squares   F-statistic:                     136.5\n",
              "Date:                Mon, 30 Aug 2021   Prob (F-statistic):           2.62e-22\n",
              "Time:                        19:59:26   Log-Likelihood:                 63.929\n",
              "No. Observations:                  48   AIC:                            -119.9\n",
              "Df Residuals:                      44   BIC:                            -112.4\n",
              "Df Model:                           3                                         \n",
              "Covariance Type:            nonrobust                                         \n",
              "======================================================================================\n",
              "                         coef    std err          t      P>|t|      [0.025      0.975]\n",
              "--------------------------------------------------------------------------------------\n",
              "Intercept              0.3704      0.022     16.476      0.000       0.325       0.416\n",
              "np.square(RD_S)        0.7306      0.061     11.939      0.000       0.607       0.854\n",
              "np.square(Admin_S)    -0.0258      0.048     -0.537      0.594      -0.123       0.071\n",
              "np.square(MRKT_S)     -0.0073      0.070     -0.105      0.917      -0.147       0.133\n",
              "==============================================================================\n",
              "Omnibus:                        7.897   Durbin-Watson:                   0.602\n",
              "Prob(Omnibus):                  0.019   Jarque-Bera (JB):                7.082\n",
              "Skew:                          -0.747   Prob(JB):                       0.0290\n",
              "Kurtosis:                       4.144   Cond. No.                         10.7\n",
              "==============================================================================\n",
              "\n",
              "Warnings:\n",
              "[1] Standard Errors assume that the covariance matrix of the errors is correctly specified.\n",
              "\"\"\""
            ]
          },
          "metadata": {},
          "execution_count": 130
        }
      ]
    },
    {
      "cell_type": "code",
      "metadata": {
        "id": "eHYCW3AbuhCM"
      },
      "source": [
        ""
      ],
      "execution_count": null,
      "outputs": []
    },
    {
      "cell_type": "markdown",
      "metadata": {
        "id": "rCC7IvXHI-ol"
      },
      "source": [
        "## **Table containing R^2 value for each prepared model**"
      ]
    },
    {
      "cell_type": "code",
      "metadata": {
        "colab": {
          "base_uri": "https://localhost:8080/",
          "height": 204
        },
        "id": "1kBMlsy3ENZ1",
        "outputId": "d4daffce-4f8f-4834-9469-50e9b69be67e"
      },
      "source": [
        "d2={'Model Name':['Model','Model1','Model2','Model3','Model4'],'Rsquared':[model.rsquared,model1.rsquared,model2.rsquared,model3.rsquared, model4.rsquared]}\n",
        "table=pd.DataFrame(d2)\n",
        "table"
      ],
      "execution_count": 132,
      "outputs": [
        {
          "output_type": "execute_result",
          "data": {
            "text/html": [
              "<div>\n",
              "<style scoped>\n",
              "    .dataframe tbody tr th:only-of-type {\n",
              "        vertical-align: middle;\n",
              "    }\n",
              "\n",
              "    .dataframe tbody tr th {\n",
              "        vertical-align: top;\n",
              "    }\n",
              "\n",
              "    .dataframe thead th {\n",
              "        text-align: right;\n",
              "    }\n",
              "</style>\n",
              "<table border=\"1\" class=\"dataframe\">\n",
              "  <thead>\n",
              "    <tr style=\"text-align: right;\">\n",
              "      <th></th>\n",
              "      <th>Model Name</th>\n",
              "      <th>Rsquared</th>\n",
              "    </tr>\n",
              "  </thead>\n",
              "  <tbody>\n",
              "    <tr>\n",
              "      <th>0</th>\n",
              "      <td>Model</td>\n",
              "      <td>0.950746</td>\n",
              "    </tr>\n",
              "    <tr>\n",
              "      <th>1</th>\n",
              "      <td>Model1</td>\n",
              "      <td>0.961316</td>\n",
              "    </tr>\n",
              "    <tr>\n",
              "      <th>2</th>\n",
              "      <td>Model2</td>\n",
              "      <td>0.962677</td>\n",
              "    </tr>\n",
              "    <tr>\n",
              "      <th>3</th>\n",
              "      <td>Model3</td>\n",
              "      <td>0.886507</td>\n",
              "    </tr>\n",
              "    <tr>\n",
              "      <th>4</th>\n",
              "      <td>Model4</td>\n",
              "      <td>0.903006</td>\n",
              "    </tr>\n",
              "  </tbody>\n",
              "</table>\n",
              "</div>"
            ],
            "text/plain": [
              "  Model Name  Rsquared\n",
              "0      Model  0.950746\n",
              "1     Model1  0.961316\n",
              "2     Model2  0.962677\n",
              "3     Model3  0.886507\n",
              "4     Model4  0.903006"
            ]
          },
          "metadata": {},
          "execution_count": 132
        }
      ]
    },
    {
      "cell_type": "markdown",
      "metadata": {
        "id": "WmwHEWhjp6uH"
      },
      "source": [
        "**Inference : model2 is having highest R-squared value**"
      ]
    },
    {
      "cell_type": "markdown",
      "metadata": {
        "id": "0Px5biXUKUOY"
      },
      "source": [
        "\n",
        "# Model Predictions"
      ]
    },
    {
      "cell_type": "code",
      "metadata": {
        "colab": {
          "base_uri": "https://localhost:8080/",
          "height": 80
        },
        "id": "XW01Ron6ENdH",
        "outputId": "dc936f39-0470-4d34-d37d-3383019d9cbd"
      },
      "source": [
        "# let the data for prediction is\n",
        "pred_data=pd.DataFrame({'RD_S':70000,\"Admin_S\":90000,\"MRKT_S\":140000},index=[0])"
      ],
      "execution_count": 133,
      "outputs": [
        {
          "output_type": "execute_result",
          "data": {
            "text/html": [
              "<div>\n",
              "<style scoped>\n",
              "    .dataframe tbody tr th:only-of-type {\n",
              "        vertical-align: middle;\n",
              "    }\n",
              "\n",
              "    .dataframe tbody tr th {\n",
              "        vertical-align: top;\n",
              "    }\n",
              "\n",
              "    .dataframe thead th {\n",
              "        text-align: right;\n",
              "    }\n",
              "</style>\n",
              "<table border=\"1\" class=\"dataframe\">\n",
              "  <thead>\n",
              "    <tr style=\"text-align: right;\">\n",
              "      <th></th>\n",
              "      <th>RD_S</th>\n",
              "      <th>Admin_S</th>\n",
              "      <th>MRKT_S</th>\n",
              "    </tr>\n",
              "  </thead>\n",
              "  <tbody>\n",
              "    <tr>\n",
              "      <th>0</th>\n",
              "      <td>70000</td>\n",
              "      <td>90000</td>\n",
              "      <td>140000</td>\n",
              "    </tr>\n",
              "  </tbody>\n",
              "</table>\n",
              "</div>"
            ],
            "text/plain": [
              "    RD_S  Admin_S  MRKT_S\n",
              "0  70000    90000  140000"
            ]
          },
          "metadata": {},
          "execution_count": 133
        }
      ]
    },
    {
      "cell_type": "code",
      "metadata": {
        "colab": {
          "base_uri": "https://localhost:8080/"
        },
        "id": "FvX7adgQENf9",
        "outputId": "74a58d06-c342-4c4b-e340-2abf093ccf5c"
      },
      "source": [
        "# Manual Prediction of Price\n",
        "model2.predict(pred_data)"
      ],
      "execution_count": 141,
      "outputs": [
        {
          "output_type": "execute_result",
          "data": {
            "text/plain": [
              "0    53524.809586\n",
              "dtype: float64"
            ]
          },
          "metadata": {},
          "execution_count": 141
        }
      ]
    }
  ]
}